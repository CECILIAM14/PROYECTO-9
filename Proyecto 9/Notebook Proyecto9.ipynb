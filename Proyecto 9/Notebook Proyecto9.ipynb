{
 "cells": [
  {
   "cell_type": "markdown",
   "metadata": {},
   "source": [
    "# Hola Cecilia!\n",
    "\n",
    "Mi nombre es David Bautista, soy code reviewer de Tripleten y hoy tengo el gusto de revisar tu proyecto.\n",
    "\n",
    "Cuando vea un error la primera vez, lo señalaré. Deberás encontrarlo y arreglarlo. La intención es que te prepares para un espacio real de trabajo. En un trabajo, el líder de tu equipo hará lo mismo. Si no puedes solucionar el error, te daré más información en la próxima ocasión.\n",
    "\n",
    "Encontrarás mis comentarios más abajo - por favor, no los muevas, no los modifiques ni los borres.\n",
    "\n",
    "¿Cómo lo voy a hacer? Voy a leer detenidamente cada una de las implementaciones que has llevado a cabo para cumplir con lo solicitado. Verás los comentarios de esta forma:\n",
    "\n",
    "<div class=\"alert alert-block alert-success\">\n",
    "<b>Comentario del revisor</b> <a class=\"tocSkip\"></a>\n",
    "    \n",
    "Si todo está perfecto.\n",
    "</div>\n",
    "\n",
    "\n",
    "<div class=\"alert alert-block alert-warning\">\n",
    "<b>Comentario del revisor</b> <a class=\"tocSkip\"></a>\n",
    "    \n",
    "Si tu código está bien pero se puede mejorar o hay algún detalle que le hace falta.\n",
    "</div>\n",
    "\n",
    "\n",
    "<div class=\"alert alert-block alert-danger\">\n",
    "    \n",
    "<b>Comentario del revisor</b> <a class=\"tocSkip\"></a>\n",
    "    \n",
    "    \n",
    "Si de pronto hace falta algo o existe algún problema con tu código o conclusiones.\n",
    "</div>\n",
    "\n",
    "\n",
    "Puedes responderme de esta forma:\n",
    "\n",
    "<div class=\"alert alert-block alert-info\">\n",
    "<b>Respuesta del estudiante</b> <a class=\"tocSkip\"></a>\n",
    "</div>\n",
    "\n",
    "¡Empecemos!\n"
   ]
  },
  {
   "cell_type": "markdown",
   "metadata": {},
   "source": [
    "<div class=\"alert alert-block alert-danger\">\n",
    "<b>Comentario del revisor</b> <a class=\"tocSkip\"></a>\n",
    "    \n",
    "# Comentario General\n",
    "    \n",
    "~~Hola, Cecilia, te felicito por el desarrollo del proyecto hasta el momento. Ahora bien, he dejado diferentes comentarios para que puedas tenerlos en cuenta para la siguiente entrega. Fíjate que deje un comentario con el subtítulo **Comentario Importante** el cual es importante que tengas en cuenta para que continuemos con la revisión del proyecto.~~\n",
    "</div>\n",
    "\n",
    "\n",
    "<div class=\"alert alert-block alert-danger\">\n",
    "<b>Comentario del revisor</b> <a class=\"tocSkip\"></a>\n",
    "    \n",
    "# Comentario General #2\n",
    "    \n",
    "~~Hola, Cecilia, he dejado nuevos comentarios etiquetados con el #2 para que los puedas tener en cuenta.~~\n",
    "</div>\n",
    "\n",
    "<div class=\"alert alert-block alert-success\">\n",
    "<b>Comentario del revisor</b> <a class=\"tocSkip\"></a>\n",
    "    \n",
    "# Comentario General #3\n",
    "    \n",
    "Hola, Cecilia, te felicito por la culminación del proyecto. Muy buen trabajo.\n",
    "</div>\n",
    "\n"
   ]
  },
  {
   "cell_type": "markdown",
   "metadata": {},
   "source": [
    "# Proyecto Sprint 9 \n",
    "\n",
    "### Descripción del proyecto\n",
    "En una gran tienda en línea. El departamento de marketing y el analista de datos han recopilado una lista de hipótesis que pueden ayudar a aumentar los ingresos. Se debe priorizar estas hipótesis, lanzar un test A/B y analizar los resultados."
   ]
  },
  {
   "cell_type": "markdown",
   "metadata": {},
   "source": [
    "<div class=\"alert alert-block alert-success\">\n",
    "<b>Comentario del revisor</b> <a class=\"tocSkip\"></a>\n",
    "    \n",
    "Perfecto, buen trabajo generando esta sección de descripción / introducción del proyecto.    \n",
    "</div>"
   ]
  },
  {
   "cell_type": "markdown",
   "metadata": {},
   "source": [
    "### Carga de datasets y procesamiento de datos."
   ]
  },
  {
   "cell_type": "code",
   "execution_count": 42,
   "metadata": {},
   "outputs": [],
   "source": [
    "#Importación de librerías necesarias\n",
    "import pandas as pd\n",
    "import seaborn as sns\n",
    "import numpy as np\n",
    "from datetime import datetime\n",
    "from matplotlib import pyplot as plt\n",
    "import scipy.stats as stats"
   ]
  },
  {
   "cell_type": "markdown",
   "metadata": {},
   "source": [
    "<div class=\"alert alert-block alert-success\">\n",
    "<b>Comentario del revisor</b> <a class=\"tocSkip\"></a>\n",
    "    \n",
    "Buen trabajo importando las librerias necesarias para el desarrollo del proyecto. </div>"
   ]
  },
  {
   "cell_type": "code",
   "execution_count": 43,
   "metadata": {},
   "outputs": [],
   "source": [
    "#Asignación de variables a los datasets \n",
    "hypotheses= pd.read_csv('/datasets/hypotheses_us.csv', sep=';')\n",
    "orders= pd.read_csv('/datasets/orders_us.csv')\n",
    "visits= pd.read_csv('/datasets/visits_us.csv')"
   ]
  },
  {
   "cell_type": "markdown",
   "metadata": {},
   "source": [
    "<div class=\"alert alert-block alert-success\">\n",
    "<b>Comentario del revisor</b> <a class=\"tocSkip\"></a>\n",
    "    \n",
    "Perfecto, buen trabajo cargando los datos necesarios para el desarrollo del proyecto. </div>"
   ]
  },
  {
   "cell_type": "code",
   "execution_count": 44,
   "metadata": {},
   "outputs": [
    {
     "name": "stdout",
     "output_type": "stream",
     "text": [
      "<class 'pandas.core.frame.DataFrame'>\n",
      "RangeIndex: 9 entries, 0 to 8\n",
      "Data columns (total 5 columns):\n",
      " #   Column      Non-Null Count  Dtype \n",
      "---  ------      --------------  ----- \n",
      " 0   Hypothesis  9 non-null      object\n",
      " 1   Reach       9 non-null      int64 \n",
      " 2   Impact      9 non-null      int64 \n",
      " 3   Confidence  9 non-null      int64 \n",
      " 4   Effort      9 non-null      int64 \n",
      "dtypes: int64(4), object(1)\n",
      "memory usage: 488.0+ bytes\n"
     ]
    },
    {
     "data": {
      "text/html": [
       "<div>\n",
       "<style scoped>\n",
       "    .dataframe tbody tr th:only-of-type {\n",
       "        vertical-align: middle;\n",
       "    }\n",
       "\n",
       "    .dataframe tbody tr th {\n",
       "        vertical-align: top;\n",
       "    }\n",
       "\n",
       "    .dataframe thead th {\n",
       "        text-align: right;\n",
       "    }\n",
       "</style>\n",
       "<table border=\"1\" class=\"dataframe\">\n",
       "  <thead>\n",
       "    <tr style=\"text-align: right;\">\n",
       "      <th></th>\n",
       "      <th>Hypothesis</th>\n",
       "      <th>Reach</th>\n",
       "      <th>Impact</th>\n",
       "      <th>Confidence</th>\n",
       "      <th>Effort</th>\n",
       "    </tr>\n",
       "  </thead>\n",
       "  <tbody>\n",
       "    <tr>\n",
       "      <th>0</th>\n",
       "      <td>Add two new channels for attracting traffic. T...</td>\n",
       "      <td>3</td>\n",
       "      <td>10</td>\n",
       "      <td>8</td>\n",
       "      <td>6</td>\n",
       "    </tr>\n",
       "    <tr>\n",
       "      <th>1</th>\n",
       "      <td>Launch your own delivery service. This will sh...</td>\n",
       "      <td>2</td>\n",
       "      <td>5</td>\n",
       "      <td>4</td>\n",
       "      <td>10</td>\n",
       "    </tr>\n",
       "    <tr>\n",
       "      <th>2</th>\n",
       "      <td>Add product recommendation blocks to the store...</td>\n",
       "      <td>8</td>\n",
       "      <td>3</td>\n",
       "      <td>7</td>\n",
       "      <td>3</td>\n",
       "    </tr>\n",
       "    <tr>\n",
       "      <th>3</th>\n",
       "      <td>Change the category structure. This will incre...</td>\n",
       "      <td>8</td>\n",
       "      <td>3</td>\n",
       "      <td>3</td>\n",
       "      <td>8</td>\n",
       "    </tr>\n",
       "    <tr>\n",
       "      <th>4</th>\n",
       "      <td>Change the background color on the main page. ...</td>\n",
       "      <td>3</td>\n",
       "      <td>1</td>\n",
       "      <td>1</td>\n",
       "      <td>1</td>\n",
       "    </tr>\n",
       "  </tbody>\n",
       "</table>\n",
       "</div>"
      ],
      "text/plain": [
       "                                          Hypothesis  Reach  Impact  \\\n",
       "0  Add two new channels for attracting traffic. T...      3      10   \n",
       "1  Launch your own delivery service. This will sh...      2       5   \n",
       "2  Add product recommendation blocks to the store...      8       3   \n",
       "3  Change the category structure. This will incre...      8       3   \n",
       "4  Change the background color on the main page. ...      3       1   \n",
       "\n",
       "   Confidence  Effort  \n",
       "0           8       6  \n",
       "1           4      10  \n",
       "2           7       3  \n",
       "3           3       8  \n",
       "4           1       1  "
      ]
     },
     "execution_count": 44,
     "metadata": {},
     "output_type": "execute_result"
    }
   ],
   "source": [
    "#Visualización e información de dataset 'hypotheses'\n",
    "hypotheses.info()\n",
    "hypotheses.head()"
   ]
  },
  {
   "cell_type": "markdown",
   "metadata": {},
   "source": [
    "Podemos ver que no hay valores ausentes en ningúna fila ni columna"
   ]
  },
  {
   "cell_type": "code",
   "execution_count": 45,
   "metadata": {},
   "outputs": [
    {
     "name": "stdout",
     "output_type": "stream",
     "text": [
      "<class 'pandas.core.frame.DataFrame'>\n",
      "RangeIndex: 1197 entries, 0 to 1196\n",
      "Data columns (total 5 columns):\n",
      " #   Column         Non-Null Count  Dtype  \n",
      "---  ------         --------------  -----  \n",
      " 0   transactionId  1197 non-null   int64  \n",
      " 1   visitorId      1197 non-null   int64  \n",
      " 2   date           1197 non-null   object \n",
      " 3   revenue        1197 non-null   float64\n",
      " 4   group          1197 non-null   object \n",
      "dtypes: float64(1), int64(2), object(2)\n",
      "memory usage: 46.9+ KB\n"
     ]
    },
    {
     "data": {
      "text/html": [
       "<div>\n",
       "<style scoped>\n",
       "    .dataframe tbody tr th:only-of-type {\n",
       "        vertical-align: middle;\n",
       "    }\n",
       "\n",
       "    .dataframe tbody tr th {\n",
       "        vertical-align: top;\n",
       "    }\n",
       "\n",
       "    .dataframe thead th {\n",
       "        text-align: right;\n",
       "    }\n",
       "</style>\n",
       "<table border=\"1\" class=\"dataframe\">\n",
       "  <thead>\n",
       "    <tr style=\"text-align: right;\">\n",
       "      <th></th>\n",
       "      <th>transactionId</th>\n",
       "      <th>visitorId</th>\n",
       "      <th>date</th>\n",
       "      <th>revenue</th>\n",
       "      <th>group</th>\n",
       "    </tr>\n",
       "  </thead>\n",
       "  <tbody>\n",
       "    <tr>\n",
       "      <th>0</th>\n",
       "      <td>3667963787</td>\n",
       "      <td>3312258926</td>\n",
       "      <td>2019-08-15</td>\n",
       "      <td>30.4</td>\n",
       "      <td>B</td>\n",
       "    </tr>\n",
       "    <tr>\n",
       "      <th>1</th>\n",
       "      <td>2804400009</td>\n",
       "      <td>3642806036</td>\n",
       "      <td>2019-08-15</td>\n",
       "      <td>15.2</td>\n",
       "      <td>B</td>\n",
       "    </tr>\n",
       "    <tr>\n",
       "      <th>2</th>\n",
       "      <td>2961555356</td>\n",
       "      <td>4069496402</td>\n",
       "      <td>2019-08-15</td>\n",
       "      <td>10.2</td>\n",
       "      <td>A</td>\n",
       "    </tr>\n",
       "    <tr>\n",
       "      <th>3</th>\n",
       "      <td>3797467345</td>\n",
       "      <td>1196621759</td>\n",
       "      <td>2019-08-15</td>\n",
       "      <td>155.1</td>\n",
       "      <td>B</td>\n",
       "    </tr>\n",
       "    <tr>\n",
       "      <th>4</th>\n",
       "      <td>2282983706</td>\n",
       "      <td>2322279887</td>\n",
       "      <td>2019-08-15</td>\n",
       "      <td>40.5</td>\n",
       "      <td>B</td>\n",
       "    </tr>\n",
       "  </tbody>\n",
       "</table>\n",
       "</div>"
      ],
      "text/plain": [
       "   transactionId   visitorId        date  revenue group\n",
       "0     3667963787  3312258926  2019-08-15     30.4     B\n",
       "1     2804400009  3642806036  2019-08-15     15.2     B\n",
       "2     2961555356  4069496402  2019-08-15     10.2     A\n",
       "3     3797467345  1196621759  2019-08-15    155.1     B\n",
       "4     2282983706  2322279887  2019-08-15     40.5     B"
      ]
     },
     "execution_count": 45,
     "metadata": {},
     "output_type": "execute_result"
    }
   ],
   "source": [
    "#Visualización e información de dataset 'orders'\n",
    "orders.info()\n",
    "orders.head()"
   ]
  },
  {
   "cell_type": "code",
   "execution_count": 46,
   "metadata": {},
   "outputs": [
    {
     "name": "stdout",
     "output_type": "stream",
     "text": [
      "<class 'pandas.core.frame.DataFrame'>\n",
      "RangeIndex: 62 entries, 0 to 61\n",
      "Data columns (total 3 columns):\n",
      " #   Column  Non-Null Count  Dtype \n",
      "---  ------  --------------  ----- \n",
      " 0   date    62 non-null     object\n",
      " 1   group   62 non-null     object\n",
      " 2   visits  62 non-null     int64 \n",
      "dtypes: int64(1), object(2)\n",
      "memory usage: 1.6+ KB\n"
     ]
    },
    {
     "data": {
      "text/html": [
       "<div>\n",
       "<style scoped>\n",
       "    .dataframe tbody tr th:only-of-type {\n",
       "        vertical-align: middle;\n",
       "    }\n",
       "\n",
       "    .dataframe tbody tr th {\n",
       "        vertical-align: top;\n",
       "    }\n",
       "\n",
       "    .dataframe thead th {\n",
       "        text-align: right;\n",
       "    }\n",
       "</style>\n",
       "<table border=\"1\" class=\"dataframe\">\n",
       "  <thead>\n",
       "    <tr style=\"text-align: right;\">\n",
       "      <th></th>\n",
       "      <th>date</th>\n",
       "      <th>group</th>\n",
       "      <th>visits</th>\n",
       "    </tr>\n",
       "  </thead>\n",
       "  <tbody>\n",
       "    <tr>\n",
       "      <th>0</th>\n",
       "      <td>2019-08-01</td>\n",
       "      <td>A</td>\n",
       "      <td>719</td>\n",
       "    </tr>\n",
       "    <tr>\n",
       "      <th>1</th>\n",
       "      <td>2019-08-02</td>\n",
       "      <td>A</td>\n",
       "      <td>619</td>\n",
       "    </tr>\n",
       "    <tr>\n",
       "      <th>2</th>\n",
       "      <td>2019-08-03</td>\n",
       "      <td>A</td>\n",
       "      <td>507</td>\n",
       "    </tr>\n",
       "    <tr>\n",
       "      <th>3</th>\n",
       "      <td>2019-08-04</td>\n",
       "      <td>A</td>\n",
       "      <td>717</td>\n",
       "    </tr>\n",
       "    <tr>\n",
       "      <th>4</th>\n",
       "      <td>2019-08-05</td>\n",
       "      <td>A</td>\n",
       "      <td>756</td>\n",
       "    </tr>\n",
       "  </tbody>\n",
       "</table>\n",
       "</div>"
      ],
      "text/plain": [
       "         date group  visits\n",
       "0  2019-08-01     A     719\n",
       "1  2019-08-02     A     619\n",
       "2  2019-08-03     A     507\n",
       "3  2019-08-04     A     717\n",
       "4  2019-08-05     A     756"
      ]
     },
     "execution_count": 46,
     "metadata": {},
     "output_type": "execute_result"
    }
   ],
   "source": [
    "#Visualización e información de dataset 'visits'\n",
    "visits.info()\n",
    "visits.head()"
   ]
  },
  {
   "cell_type": "markdown",
   "metadata": {},
   "source": [
    "De igual forma observamos que no existen valores ausentes y/o nulos."
   ]
  },
  {
   "cell_type": "code",
   "execution_count": 47,
   "metadata": {},
   "outputs": [
    {
     "name": "stdout",
     "output_type": "stream",
     "text": [
      "Index(['Transaction_Id', 'Visitor_Id', 'Date', 'Revenue', 'Group'], dtype='object')\n",
      "Index(['Date', 'Group', 'Visits'], dtype='object')\n",
      "Index(['Hypothesis', 'Reach', 'Impact', 'Confidence', 'Effort'], dtype='object')\n"
     ]
    }
   ],
   "source": [
    "#Cambio de nombre de columnas para unificar el estilo \n",
    "columns_new = {\n",
    "    'transactionId' : 'Transaction_Id',\n",
    "    'visitorId' : 'Visitor_Id',\n",
    "    'date' : 'Date',\n",
    "    'revenue' : 'Revenue',\n",
    "    'group':'Group',\n",
    "    \n",
    "}\n",
    "\n",
    "orders.rename(columns = columns_new, inplace = True)\n",
    "print(orders.columns)\n",
    "\n",
    "columns_new = {\n",
    "    'date' : 'Date',\n",
    "    'group' : 'Group',\n",
    "    'visits' : 'Visits',\n",
    "}\n",
    "\n",
    "visits.rename(columns = columns_new, inplace = True)\n",
    "\n",
    "print(visits.columns)\n",
    "print(hypotheses.columns)"
   ]
  },
  {
   "cell_type": "markdown",
   "metadata": {},
   "source": [
    "Estandarizo el nombre de las columnas para que tengan un estilo uniforme. "
   ]
  },
  {
   "cell_type": "code",
   "execution_count": 48,
   "metadata": {},
   "outputs": [
    {
     "name": "stdout",
     "output_type": "stream",
     "text": [
      "Transaction_Id             int64\n",
      "Visitor_Id                 int64\n",
      "Date              datetime64[ns]\n",
      "Revenue                  float64\n",
      "Group                     object\n",
      "dtype: object\n",
      "\n",
      "Date      datetime64[ns]\n",
      "Group             object\n",
      "Visits             int64\n",
      "dtype: object\n"
     ]
    }
   ],
   "source": [
    "#Transformacion de tipo de datos en columnas 'Date' a datetime \n",
    "orders['Date'] = pd.to_datetime(orders['Date'], format='%Y-%m-%d')\n",
    "\n",
    "visits['Date'] = pd.to_datetime(visits['Date'], format='%Y-%m-%d')\n",
    "\n",
    "print(orders.dtypes)\n",
    "print()\n",
    "print(visits.dtypes)"
   ]
  },
  {
   "cell_type": "markdown",
   "metadata": {},
   "source": [
    "Cambio el tipo de datos de las columnas 'Date' de los datasets de orders y visits a formato de fecha. "
   ]
  },
  {
   "cell_type": "code",
   "execution_count": 49,
   "metadata": {},
   "outputs": [
    {
     "name": "stdout",
     "output_type": "stream",
     "text": [
      "166\n",
      "0\n"
     ]
    }
   ],
   "source": [
    "#Encontrar valores duplicados en la columna 'Visitor_Id' del dataframe orders.\n",
    "print(orders.duplicated(subset='Visitor_Id').sum())\n",
    "\n",
    "#Eliminación de valores duplicados. \n",
    "orders= orders.drop_duplicates()\n",
    "\n",
    "print(orders.duplicated().sum())"
   ]
  },
  {
   "cell_type": "markdown",
   "metadata": {},
   "source": [
    "Encontramos el número de usuarios que se repiten en el dataframe orders, y los eliminamos para no tener un mismo usuario en ambos grupos."
   ]
  },
  {
   "cell_type": "markdown",
   "metadata": {},
   "source": [
    "<div class=\"alert alert-block alert-success\">\n",
    "<b>Comentario del revisor</b> <a class=\"tocSkip\"></a>\n",
    "    \n",
    "Perfecto Cecilia, buen trabajo con el desarrollo de esta primera sección de exploración y modificación inicial del contenido de las tablas. </div>"
   ]
  },
  {
   "cell_type": "markdown",
   "metadata": {},
   "source": [
    "### Parte 1. Priorizar hipótesis"
   ]
  },
  {
   "cell_type": "code",
   "execution_count": 50,
   "metadata": {},
   "outputs": [
    {
     "name": "stdout",
     "output_type": "stream",
     "text": [
      "                                          Hypothesis        ICE\n",
      "8  Launch a promotion that gives users discounts ...  16.200000\n",
      "0  Add two new channels for attracting traffic. T...  13.333333\n",
      "7  Add a subscription form to all the main pages....  11.200000\n",
      "6  Show banners with current offers and sales on ...   8.000000\n",
      "2  Add product recommendation blocks to the store...   7.000000\n",
      "1  Launch your own delivery service. This will sh...   2.000000\n",
      "5  Add a customer review page. This will increase...   1.333333\n",
      "3  Change the category structure. This will incre...   1.125000\n",
      "4  Change the background color on the main page. ...   1.000000\n",
      "\n",
      "Las 3 hipotesis más comprometedoras:\n",
      "8    16.200000\n",
      "0    13.333333\n",
      "7    11.200000\n",
      "Name: ICE, dtype: float64\n"
     ]
    }
   ],
   "source": [
    "#Aplicación del framework ICE para priorizar hipótesis.En un orden descendente de prioridad.\n",
    "hypotheses['ICE']= hypotheses['Impact']*hypotheses['Confidence']/hypotheses['Effort']\n",
    "print(hypotheses[['Hypothesis','ICE']].sort_values(by='ICE', ascending=False))\n",
    "print()\n",
    "print('Las 3 hipotesis más comprometedoras:')\n",
    "print(hypotheses['ICE'].sort_values(ascending=False).head(3))"
   ]
  },
  {
   "cell_type": "code",
   "execution_count": 51,
   "metadata": {},
   "outputs": [
    {
     "name": "stdout",
     "output_type": "stream",
     "text": [
      "                                          Hypothesis   RICE\n",
      "7  Add a subscription form to all the main pages....  112.0\n",
      "2  Add product recommendation blocks to the store...   56.0\n",
      "0  Add two new channels for attracting traffic. T...   40.0\n",
      "6  Show banners with current offers and sales on ...   40.0\n",
      "8  Launch a promotion that gives users discounts ...   16.2\n",
      "3  Change the category structure. This will incre...    9.0\n",
      "1  Launch your own delivery service. This will sh...    4.0\n",
      "5  Add a customer review page. This will increase...    4.0\n",
      "4  Change the background color on the main page. ...    3.0\n",
      "\n",
      "Las 3 hipotesis más comprometedoras:\n",
      "7    112.0\n",
      "2     56.0\n",
      "0     40.0\n",
      "Name: RICE, dtype: float64\n"
     ]
    }
   ],
   "source": [
    "#Aplicación del framework RICE para priorizar hipótesis.En un orden descendente de prioridad.\n",
    "hypotheses['RICE'] = hypotheses['Reach']*hypotheses['Impact']*hypotheses['Confidence']/hypotheses['Effort']\n",
    "print(hypotheses[['Hypothesis','RICE']].sort_values(by='RICE',ascending=False))\n",
    "print()\n",
    "print('Las 3 hipotesis más comprometedoras:')\n",
    "print(hypotheses['RICE'].sort_values(ascending=False).head(3))"
   ]
  },
  {
   "cell_type": "code",
   "execution_count": 52,
   "metadata": {},
   "outputs": [
    {
     "data": {
      "text/html": [
       "<div>\n",
       "<style scoped>\n",
       "    .dataframe tbody tr th:only-of-type {\n",
       "        vertical-align: middle;\n",
       "    }\n",
       "\n",
       "    .dataframe tbody tr th {\n",
       "        vertical-align: top;\n",
       "    }\n",
       "\n",
       "    .dataframe thead th {\n",
       "        text-align: right;\n",
       "    }\n",
       "</style>\n",
       "<table border=\"1\" class=\"dataframe\">\n",
       "  <thead>\n",
       "    <tr style=\"text-align: right;\">\n",
       "      <th></th>\n",
       "      <th>Hypothesis</th>\n",
       "      <th>Reach</th>\n",
       "      <th>Impact</th>\n",
       "      <th>Confidence</th>\n",
       "      <th>Effort</th>\n",
       "      <th>ICE</th>\n",
       "      <th>RICE</th>\n",
       "    </tr>\n",
       "  </thead>\n",
       "  <tbody>\n",
       "    <tr>\n",
       "      <th>0</th>\n",
       "      <td>Add two new channels for attracting traffic. T...</td>\n",
       "      <td>3</td>\n",
       "      <td>10</td>\n",
       "      <td>8</td>\n",
       "      <td>6</td>\n",
       "      <td>13.333333</td>\n",
       "      <td>40.0</td>\n",
       "    </tr>\n",
       "    <tr>\n",
       "      <th>1</th>\n",
       "      <td>Launch your own delivery service. This will sh...</td>\n",
       "      <td>2</td>\n",
       "      <td>5</td>\n",
       "      <td>4</td>\n",
       "      <td>10</td>\n",
       "      <td>2.000000</td>\n",
       "      <td>4.0</td>\n",
       "    </tr>\n",
       "    <tr>\n",
       "      <th>2</th>\n",
       "      <td>Add product recommendation blocks to the store...</td>\n",
       "      <td>8</td>\n",
       "      <td>3</td>\n",
       "      <td>7</td>\n",
       "      <td>3</td>\n",
       "      <td>7.000000</td>\n",
       "      <td>56.0</td>\n",
       "    </tr>\n",
       "    <tr>\n",
       "      <th>3</th>\n",
       "      <td>Change the category structure. This will incre...</td>\n",
       "      <td>8</td>\n",
       "      <td>3</td>\n",
       "      <td>3</td>\n",
       "      <td>8</td>\n",
       "      <td>1.125000</td>\n",
       "      <td>9.0</td>\n",
       "    </tr>\n",
       "    <tr>\n",
       "      <th>4</th>\n",
       "      <td>Change the background color on the main page. ...</td>\n",
       "      <td>3</td>\n",
       "      <td>1</td>\n",
       "      <td>1</td>\n",
       "      <td>1</td>\n",
       "      <td>1.000000</td>\n",
       "      <td>3.0</td>\n",
       "    </tr>\n",
       "    <tr>\n",
       "      <th>5</th>\n",
       "      <td>Add a customer review page. This will increase...</td>\n",
       "      <td>3</td>\n",
       "      <td>2</td>\n",
       "      <td>2</td>\n",
       "      <td>3</td>\n",
       "      <td>1.333333</td>\n",
       "      <td>4.0</td>\n",
       "    </tr>\n",
       "    <tr>\n",
       "      <th>6</th>\n",
       "      <td>Show banners with current offers and sales on ...</td>\n",
       "      <td>5</td>\n",
       "      <td>3</td>\n",
       "      <td>8</td>\n",
       "      <td>3</td>\n",
       "      <td>8.000000</td>\n",
       "      <td>40.0</td>\n",
       "    </tr>\n",
       "    <tr>\n",
       "      <th>7</th>\n",
       "      <td>Add a subscription form to all the main pages....</td>\n",
       "      <td>10</td>\n",
       "      <td>7</td>\n",
       "      <td>8</td>\n",
       "      <td>5</td>\n",
       "      <td>11.200000</td>\n",
       "      <td>112.0</td>\n",
       "    </tr>\n",
       "    <tr>\n",
       "      <th>8</th>\n",
       "      <td>Launch a promotion that gives users discounts ...</td>\n",
       "      <td>1</td>\n",
       "      <td>9</td>\n",
       "      <td>9</td>\n",
       "      <td>5</td>\n",
       "      <td>16.200000</td>\n",
       "      <td>16.2</td>\n",
       "    </tr>\n",
       "  </tbody>\n",
       "</table>\n",
       "</div>"
      ],
      "text/plain": [
       "                                          Hypothesis  Reach  Impact  \\\n",
       "0  Add two new channels for attracting traffic. T...      3      10   \n",
       "1  Launch your own delivery service. This will sh...      2       5   \n",
       "2  Add product recommendation blocks to the store...      8       3   \n",
       "3  Change the category structure. This will incre...      8       3   \n",
       "4  Change the background color on the main page. ...      3       1   \n",
       "5  Add a customer review page. This will increase...      3       2   \n",
       "6  Show banners with current offers and sales on ...      5       3   \n",
       "7  Add a subscription form to all the main pages....     10       7   \n",
       "8  Launch a promotion that gives users discounts ...      1       9   \n",
       "\n",
       "   Confidence  Effort        ICE   RICE  \n",
       "0           8       6  13.333333   40.0  \n",
       "1           4      10   2.000000    4.0  \n",
       "2           7       3   7.000000   56.0  \n",
       "3           3       8   1.125000    9.0  \n",
       "4           1       1   1.000000    3.0  \n",
       "5           2       3   1.333333    4.0  \n",
       "6           8       3   8.000000   40.0  \n",
       "7           8       5  11.200000  112.0  \n",
       "8           9       5  16.200000   16.2  "
      ]
     },
     "execution_count": 52,
     "metadata": {},
     "output_type": "execute_result"
    }
   ],
   "source": [
    "hypotheses"
   ]
  },
  {
   "cell_type": "markdown",
   "metadata": {},
   "source": [
    "Explicación de los cambios:\n",
    "\n",
    "El framework ICE da como resultado las hipótesis 8, 0 y 7 son las más prometedoras. \n",
    "El framework RICE da como resultado las hipótesis 7, 2 y 0 son las más prometedoras. \n",
    "\n",
    "Utilizando el framework RICE en primer lugar la hipótesis número 7. Esto se debe a que su parámetro Reach es 10 mientras que las otras hipótesis tienen valores más bajos.\n",
    "\n",
    "RICE prioriza las características que tienen un alto impacto, alta confianza y un amplio alcance, mientras que ICE prioriza las características con un alto impacto, alta confianza y esfuerzo."
   ]
  },
  {
   "cell_type": "markdown",
   "metadata": {},
   "source": [
    "<div class=\"alert alert-block alert-success\">\n",
    "<b>Comentario del revisor</b> <a class=\"tocSkip\"></a>\n",
    "    \n",
    "Perfecto Cecilia, buen trabajo aplicando los frameworks RICE e ICE y comparando los resultados. </div>"
   ]
  },
  {
   "cell_type": "markdown",
   "metadata": {},
   "source": [
    "<div class=\"alert alert-block alert-danger\">\n",
    "<b>Comentario del revisor</b> <a class=\"tocSkip\"></a>\n",
    "    \n",
    "**Comentario Importante**\n",
    "    \n",
    "~~Hola, Cecilia, te felicito por el desarrollo del proyecto hasta el momento. El contenido en general es muy bueno. Ahora bien, hay un pequeño problema que debemos tener en cuenta previo al desarrollo de la sección de análisis, fíjate que el ideal para obtener conclusiones correctas es poder eliminar los usuarios que están repetidos en los dos grupos.~~ \n",
    "\n",
    "~~Teniendo en cuenta el comentario anterior y el hecho de que el resto del proyecto depende en últimas de las estructuras de las tablas, te recomiendo realizar esa corrección para que podamos continuar con la revisión del proyecto.~~ </div>"
   ]
  },
  {
   "cell_type": "markdown",
   "metadata": {},
   "source": [
    "### Parte 2. Análisis de test A/B"
   ]
  },
  {
   "cell_type": "code",
   "execution_count": 53,
   "metadata": {},
   "outputs": [
    {
     "data": {
      "text/html": [
       "<div>\n",
       "<style scoped>\n",
       "    .dataframe tbody tr th:only-of-type {\n",
       "        vertical-align: middle;\n",
       "    }\n",
       "\n",
       "    .dataframe tbody tr th {\n",
       "        vertical-align: top;\n",
       "    }\n",
       "\n",
       "    .dataframe thead th {\n",
       "        text-align: right;\n",
       "    }\n",
       "</style>\n",
       "<table border=\"1\" class=\"dataframe\">\n",
       "  <thead>\n",
       "    <tr style=\"text-align: right;\">\n",
       "      <th></th>\n",
       "      <th>Date</th>\n",
       "      <th>Group</th>\n",
       "    </tr>\n",
       "  </thead>\n",
       "  <tbody>\n",
       "    <tr>\n",
       "      <th>0</th>\n",
       "      <td>2019-08-15</td>\n",
       "      <td>B</td>\n",
       "    </tr>\n",
       "    <tr>\n",
       "      <th>2</th>\n",
       "      <td>2019-08-15</td>\n",
       "      <td>A</td>\n",
       "    </tr>\n",
       "    <tr>\n",
       "      <th>45</th>\n",
       "      <td>2019-08-16</td>\n",
       "      <td>A</td>\n",
       "    </tr>\n",
       "    <tr>\n",
       "      <th>47</th>\n",
       "      <td>2019-08-16</td>\n",
       "      <td>B</td>\n",
       "    </tr>\n",
       "    <tr>\n",
       "      <th>55</th>\n",
       "      <td>2019-08-01</td>\n",
       "      <td>A</td>\n",
       "    </tr>\n",
       "    <tr>\n",
       "      <th>...</th>\n",
       "      <td>...</td>\n",
       "      <td>...</td>\n",
       "    </tr>\n",
       "    <tr>\n",
       "      <th>1068</th>\n",
       "      <td>2019-08-12</td>\n",
       "      <td>A</td>\n",
       "    </tr>\n",
       "    <tr>\n",
       "      <th>1114</th>\n",
       "      <td>2019-08-13</td>\n",
       "      <td>B</td>\n",
       "    </tr>\n",
       "    <tr>\n",
       "      <th>1116</th>\n",
       "      <td>2019-08-13</td>\n",
       "      <td>A</td>\n",
       "    </tr>\n",
       "    <tr>\n",
       "      <th>1149</th>\n",
       "      <td>2019-08-14</td>\n",
       "      <td>B</td>\n",
       "    </tr>\n",
       "    <tr>\n",
       "      <th>1150</th>\n",
       "      <td>2019-08-14</td>\n",
       "      <td>A</td>\n",
       "    </tr>\n",
       "  </tbody>\n",
       "</table>\n",
       "<p>62 rows × 2 columns</p>\n",
       "</div>"
      ],
      "text/plain": [
       "           Date Group\n",
       "0    2019-08-15     B\n",
       "2    2019-08-15     A\n",
       "45   2019-08-16     A\n",
       "47   2019-08-16     B\n",
       "55   2019-08-01     A\n",
       "...         ...   ...\n",
       "1068 2019-08-12     A\n",
       "1114 2019-08-13     B\n",
       "1116 2019-08-13     A\n",
       "1149 2019-08-14     B\n",
       "1150 2019-08-14     A\n",
       "\n",
       "[62 rows x 2 columns]"
      ]
     },
     "execution_count": 53,
     "metadata": {},
     "output_type": "execute_result"
    }
   ],
   "source": [
    "# Matriz con valores únicos de parejas fecha-grupo\n",
    "datesGroups = orders[['Date','Group']].drop_duplicates()\n",
    "datesGroups"
   ]
  },
  {
   "cell_type": "code",
   "execution_count": 54,
   "metadata": {},
   "outputs": [],
   "source": [
    "#Obtención de los datos diarios acumulados agregados sobre los pedidos \n",
    "ordersAggregated = datesGroups.apply(\n",
    "    lambda x: orders[np.logical_and(orders['Date'] <= x['Date'], \n",
    "    orders['Group'] == x['Group'])]\n",
    "    .agg({'Date' : 'max', 'Group' : 'max', 'Transaction_Id' : pd.Series.nunique, 'Visitor_Id' : pd.Series.nunique, 'Revenue' : 'sum'}), \n",
    "    axis=1).sort_values(by=['Date','Group'])\n",
    "\n",
    "#Obtención de los datos diarios acumulados agregados sobre los visitantes\n",
    "visitsAggregated = datesGroups.apply(\n",
    "    lambda x: visits[np.logical_and(visits['Date'] <= x['Date'], \n",
    "    visits['Group'] == x['Group'])].agg({'Date' : 'max', 'Group' : 'max', 'Visits' : 'sum'}), \n",
    "    axis=1).sort_values(by=['Date','Group'])\n"
   ]
  },
  {
   "cell_type": "markdown",
   "metadata": {},
   "source": [
    "Con este código, es como si hubiéramos estado calculando los resultados de nuestra prueba todos los días hasta la fecha actual y almacenándolos en las filas de la tabla ordersAggregated. \n",
    "\n",
    "Vamos a hacer algo parecido para obtener los datos diarios acumulados agregados sobre los visitantes."
   ]
  },
  {
   "cell_type": "code",
   "execution_count": 55,
   "metadata": {},
   "outputs": [
    {
     "name": "stdout",
     "output_type": "stream",
     "text": [
      "        Date Group  Orders  Buyers  Revenue  Visits\n",
      "0 2019-08-01     A      24      20   2356.8     719\n",
      "1 2019-08-01     B      21      20   1620.0     713\n",
      "2 2019-08-02     A      44      38   3860.3    1338\n",
      "3 2019-08-02     B      45      43   4243.8    1294\n",
      "4 2019-08-03     A      68      62   5675.5    1845\n"
     ]
    }
   ],
   "source": [
    "# Fusión de las dos tablas en una y cambio de nombres descriptivos de las columnas\n",
    "cumulativeData = ordersAggregated.merge(visitsAggregated, left_on=['Date', 'Group'], right_on=['Date', 'Group'])\n",
    "cumulativeData.columns = ['Date', 'Group', 'Orders', 'Buyers', 'Revenue', 'Visits']\n",
    "\n",
    "print(cumulativeData.head(5))"
   ]
  },
  {
   "cell_type": "code",
   "execution_count": 56,
   "metadata": {},
   "outputs": [
    {
     "data": {
      "image/png": "[encoded data removed]",
      "text/plain": [
       "<Figure size 640x480 with 1 Axes>"
      ]
     },
     "metadata": {},
     "output_type": "display_data"
    }
   ],
   "source": [
    "# DataFrame con pedidos acumulados e ingresos acumulados por día, grupo A\n",
    "cumulativeRevenueA = cumulativeData[cumulativeData['Group']=='A'][['Date','Revenue', 'Orders']]\n",
    "\n",
    "# DataFrame con pedidos acumulados e ingresos acumulados por día, grupo B\n",
    "cumulativeRevenueB = cumulativeData[cumulativeData['Group']=='B'][['Date','Revenue', 'Orders']]\n",
    "\n",
    "# Trazar el gráfico de ingresos del grupo A\n",
    "plt.plot(cumulativeRevenueA['Date'], cumulativeRevenueA['Revenue'], label='A')\n",
    "\n",
    "# Trazar el gráfico de ingresos del grupo B\n",
    "plt.plot(cumulativeRevenueB['Date'], cumulativeRevenueB['Revenue'], label='B')\n",
    "\n",
    "#Representación gráfica del ingreso acumulado por grupo.\n",
    "plt.title(\"Ingreso Acumulado por Grupo\")\n",
    "plt.xlabel(\"Fecha\")\n",
    "plt.ylabel(\"Ingreso\")\n",
    "plt.legend()\n",
    "plt.grid(True)\n",
    "plt.xticks(rotation=45)\n",
    "plt.show()"
   ]
  },
  {
   "cell_type": "markdown",
   "metadata": {},
   "source": [
    "<div class=\"alert alert-block alert-success\">\n",
    "<b>Comentario del revisor #2</b> <a class=\"tocSkip\"></a>\n",
    "    \n",
    "Perfecto, Cecilia, buen trabajo con el desarrollo del gráfico de los ingresos acumulados por grupo. </div>"
   ]
  },
  {
   "cell_type": "markdown",
   "metadata": {},
   "source": [
    "Los ingresos aumentan constantemente durante toda la prueba. Sobretodo en el grupo B, tiene un mayor aumento a mediados del mes. Esto puede implicar un aumento en el número de pedidos o la existencia de pedidos muy caros en la muestra."
   ]
  },
  {
   "cell_type": "code",
   "execution_count": 57,
   "metadata": {},
   "outputs": [
    {
     "data": {
      "image/png": "[encoded data removed]",
      "text/plain": [
       "<Figure size 640x480 with 1 Axes>"
      ]
     },
     "metadata": {},
     "output_type": "display_data"
    }
   ],
   "source": [
    "#Representación gráfica del tamaño de pedido promedio acumulado por grupo. \n",
    "plt.plot(cumulativeRevenueA['Date'], cumulativeRevenueA['Revenue']/cumulativeRevenueA['Orders'], label='A')\n",
    "plt.plot(cumulativeRevenueB['Date'], cumulativeRevenueB['Revenue']/cumulativeRevenueB['Orders'], label='B')\n",
    "\n",
    "plt.title(\"Tamaño de pedido promedio por Grupo\")\n",
    "plt.xlabel(\"Fecha\")\n",
    "plt.ylabel(\"Número de ordenes\")\n",
    "plt.legend()\n",
    "plt.grid(True)\n",
    "plt.xticks(rotation=45)\n",
    "plt.show()"
   ]
  },
  {
   "cell_type": "markdown",
   "metadata": {},
   "source": [
    "El tamaño de compra promedio comienza siendo mayor para el grupo A, pero enseguida se observa una baja en los primeros 5 días del mes. Posteriormente, comienza a subir, teniendo un pico significativo el día 13 de agosto. Luego, experimenta una pequeña baja, pero conserva el nivel con un pequeño aumento conforme avanza el mes.\n",
    "\n",
    "En cuanto al grupo B, comienza con pocas ventas, que aumentan con el paso de los días. Luego, se observa una pequeña baja en los primeros 5 días. Después de ese día, continúa aumentando en su mayor parte, teniendo un crecimiento bastante grande pasado el 17 de agosto. Posteriormente, comienza a descender de manera paulatina.\n",
    "\n",
    "Necesitamos más datos sobre este grupo para encontrar el verdadero tamaño promedio de compra y establecer su nivel."
   ]
  },
  {
   "cell_type": "markdown",
   "metadata": {},
   "source": [
    "<div class=\"alert alert-block alert-success\">\n",
    "<b>Comentario del revisor #2</b> <a class=\"tocSkip\"></a>\n",
    "    \n",
    "Perfecto, Cecilia, buen trabajo con el desarrollo del gráfico del tamaño del pedido promedio acumulado por grupo. </div>"
   ]
  },
  {
   "cell_type": "code",
   "execution_count": 58,
   "metadata": {},
   "outputs": [
    {
     "name": "stderr",
     "output_type": "stream",
     "text": [
      "No handles with labels found to put in legend.\n"
     ]
    },
    {
     "data": {
      "image/png": "[encoded data removed]",
      "text/plain": [
       "<Figure size 640x480 with 1 Axes>"
      ]
     },
     "metadata": {},
     "output_type": "display_data"
    }
   ],
   "source": [
    "# Juntar los datos en un DataFrame\n",
    "mergedCumulativeRevenue = cumulativeRevenueA.merge(cumulativeRevenueB, left_on='Date', right_on='Date', how='left', suffixes=['A', 'B'])\n",
    "\n",
    "# Trazar un gráfico de diferencia relativa para los tamaños de compra promedio\n",
    "plt.plot(mergedCumulativeRevenue['Date'], (mergedCumulativeRevenue['RevenueB']/mergedCumulativeRevenue['OrdersB'])/(mergedCumulativeRevenue['RevenueA']/mergedCumulativeRevenue['OrdersA'])-1)\n",
    "\n",
    "# agregar el eje X\n",
    "plt.axhline(y=0, color='black', linestyle='--')\n",
    "\n",
    "#Representación gráfica de la diferencia relativa en el tamaño de pedido promedio acumulado para el grupo B en comparación con el grupo A. \n",
    "plt.title(\"Diferencia relativa entre el grupo B en comparación del grupo A\")\n",
    "plt.xlabel(\"Fecha\")\n",
    "plt.ylabel(\"Número de ordenes\")\n",
    "plt.legend()\n",
    "plt.grid(True)\n",
    "plt.xticks(rotation=45)\n",
    "plt.show()"
   ]
  },
  {
   "cell_type": "markdown",
   "metadata": {},
   "source": [
    "<div class=\"alert alert-block alert-success\">\n",
    "<b>Comentario del revisor #2</b> <a class=\"tocSkip\"></a>\n",
    "    \n",
    "Perfecto, buen trabajo con el cálculo y desarrollo del gráfico de la diferencia relativa entre los grupos. </div>"
   ]
  },
  {
   "cell_type": "markdown",
   "metadata": {},
   "source": [
    "En varios puntos, la diferencia entre los segmentos aumenta. ¡Esto significa que deben haber algunos pedidos grandes y valores atípicos! "
   ]
  },
  {
   "cell_type": "code",
   "execution_count": 59,
   "metadata": {},
   "outputs": [
    {
     "data": {
      "image/png": "[encoded data removed]",
      "text/plain": [
       "<Figure size 640x480 with 1 Axes>"
      ]
     },
     "metadata": {},
     "output_type": "display_data"
    }
   ],
   "source": [
    "#Calculo de la tasa de conversión de cada grupo como la relación entre los pedidos y el número de visitas de cada día. \n",
    "cumulativeData['Conversion'] = cumulativeData['Orders']/cumulativeData['Visits']\n",
    "\n",
    "# seleccionar datos en el grupo A\n",
    "cumulativeDataA = cumulativeData[cumulativeData['Group']=='A']\n",
    "\n",
    "# seleccionar datos en el grupo B\n",
    "cumulativeDataB = cumulativeData[cumulativeData['Group']=='B']\n",
    "\n",
    "#Representación gráfica de las tasas de conversión diarias de los dos grupos y describe la diferencia. \n",
    "plt.plot(cumulativeDataA['Date'], cumulativeDataA['Conversion'], label='A')\n",
    "plt.plot(cumulativeDataB['Date'], cumulativeDataB['Conversion'], label='B')\n",
    "\n",
    "plt.title(\"Tasa de conversión\")\n",
    "plt.xlabel(\"Fecha\")\n",
    "plt.ylabel(\"Conversion\")\n",
    "plt.legend()\n",
    "plt.grid(True)\n",
    "plt.xticks(rotation=45)\n",
    "plt.show()\n"
   ]
  },
  {
   "cell_type": "markdown",
   "metadata": {},
   "source": [
    "<div class=\"alert alert-block alert-success\">\n",
    "<b>Comentario del revisor #2</b> <a class=\"tocSkip\"></a>\n",
    "    \n",
    "Perfecto, buen trabajo con el cálculo y desarrollo del gráfico de la tasa de conversión. </div>"
   ]
  },
  {
   "cell_type": "markdown",
   "metadata": {},
   "source": [
    "Los grupos se comportan de manera similar pero a distinta escala. El grupo B mantuvo siempre valores más altos con altibajos, mientras que el grupo A tuvo valores más bajos. Al inicio del mes, el grupo A llevaba la delantera, pero el resto del mes disminuyó considerablemente y el grupo B aumentó."
   ]
  },
  {
   "cell_type": "code",
   "execution_count": 60,
   "metadata": {},
   "outputs": [
    {
     "name": "stderr",
     "output_type": "stream",
     "text": [
      "No handles with labels found to put in legend.\n"
     ]
    },
    {
     "data": {
      "image/png": "[encoded data removed]",
      "text/plain": [
       "<Figure size 640x480 with 1 Axes>"
      ]
     },
     "metadata": {},
     "output_type": "display_data"
    }
   ],
   "source": [
    "#Gráfico de diferencia relativa para las tasas de conversión acumuladas\n",
    "mergedCumulativeConversions = cumulativeDataA[['Date','Conversion']].merge(cumulativeDataB[['Date','Conversion']], left_on='Date', right_on='Date', how='left', suffixes=['A', 'B'])\n",
    "\n",
    "plt.plot(mergedCumulativeConversions['Date'], mergedCumulativeConversions['ConversionB']/mergedCumulativeConversions['ConversionA']-1)\n",
    "plt.legend()\n",
    "\n",
    "plt.axhline(y=0, color='black', linestyle='--')\n",
    "plt.axhline(y=-0.1, color='grey', linestyle='--')\n",
    "\n",
    "plt.title(\"Diferencia relativa en la tasa de conversion acumulada\")\n",
    "plt.xlabel(\"Fecha\")\n",
    "plt.ylabel(\"Conversion\")\n",
    "plt.grid(True)\n",
    "plt.xticks(rotation=45)\n",
    "plt.show()"
   ]
  },
  {
   "cell_type": "markdown",
   "metadata": {},
   "source": [
    "El grupo B tomó la delantera. El indice de conversión se mantiene estable después de los primeros 5 días del mes."
   ]
  },
  {
   "cell_type": "markdown",
   "metadata": {},
   "source": [
    "<div class=\"alert alert-block alert-success\">\n",
    "<b>Comentario del revisor #2</b> <a class=\"tocSkip\"></a>\n",
    "    \n",
    "Perfecto, buen trabajo con el desarrollo del gráfico de la diferencia relativa entre las tasas de conversión de los grupos.  </div>"
   ]
  },
  {
   "cell_type": "code",
   "execution_count": 61,
   "metadata": {},
   "outputs": [
    {
     "name": "stderr",
     "output_type": "stream",
     "text": [
      "No handles with labels found to put in legend.\n"
     ]
    },
    {
     "name": "stdout",
     "output_type": "stream",
     "text": [
      "        Buyer_Id  Orders\n",
      "1023  4256040402      11\n",
      "591   2458001652      11\n",
      "569   2378935119       9\n",
      "487   2038680547       8\n",
      "44     199603092       5\n",
      "744   3062433592       5\n",
      "55     237748145       5\n",
      "917   3803269165       5\n",
      "299   1230306981       5\n",
      "897   3717692402       5\n"
     ]
    },
    {
     "data": {
      "image/png": "[encoded data removed]",
      "text/plain": [
       "<Figure size 640x480 with 1 Axes>"
      ]
     },
     "metadata": {},
     "output_type": "display_data"
    }
   ],
   "source": [
    "#Gráfico de dispersión del número de pedidos por usuario.\n",
    "ordersByUsers = (\n",
    "    orders.drop(['Group', 'Revenue', 'Date'], axis=1)\n",
    "    .groupby('Visitor_Id', as_index=False)\n",
    "    .agg({'Transaction_Id': pd.Series.nunique})\n",
    ") \n",
    "\n",
    "ordersByUsers.columns = ['Buyer_Id', 'Orders']\n",
    "\n",
    "print(ordersByUsers.sort_values(by='Orders', ascending=False).head(10))\n",
    "\n",
    "plt.hist(ordersByUsers['Orders'])\n",
    "plt.title(\"Número de pedidos por usuario\")\n",
    "plt.xlabel(\"Ordenes\")\n",
    "plt.ylabel(\"Número de pedidos\")\n",
    "plt.legend()\n",
    "plt.grid(True)\n",
    "plt.show()"
   ]
  },
  {
   "cell_type": "markdown",
   "metadata": {},
   "source": [
    "La mayoría de los clientes hicieron un solo pedido. Sin embargo, una parte significativa hizo de dos a cuatro cada uno."
   ]
  },
  {
   "cell_type": "code",
   "execution_count": 62,
   "metadata": {},
   "outputs": [
    {
     "data": {
      "text/plain": [
       "array([ 1,  2,  5,  3,  4,  8,  9, 11])"
      ]
     },
     "execution_count": 62,
     "metadata": {},
     "output_type": "execute_result"
    }
   ],
   "source": [
    "ordersByUsers['Orders'].unique()\n",
    "orders.groupby('Visitor_Id')['Transaction_Id'].nunique().reset_index()['Transaction_Id'].unique()\n"
   ]
  },
  {
   "cell_type": "code",
   "execution_count": 63,
   "metadata": {},
   "outputs": [
    {
     "data": {
      "text/plain": [
       "<matplotlib.collections.PathCollection at 0x7f45d4a89f40>"
      ]
     },
     "execution_count": 63,
     "metadata": {},
     "output_type": "execute_result"
    },
    {
     "data": {
      "image/png": "[encoded data removed]",
      "text/plain": [
       "<Figure size 640x480 with 1 Axes>"
      ]
     },
     "metadata": {},
     "output_type": "display_data"
    }
   ],
   "source": [
    "x_values = pd.Series(range(0,len(ordersByUsers)))\n",
    "plt.scatter(x_values, ordersByUsers['Orders'])"
   ]
  },
  {
   "cell_type": "markdown",
   "metadata": {},
   "source": [
    "<div class=\"alert alert-block alert-danger\">\n",
    "<b>Comentario del revisor #2</b> <a class=\"tocSkip\"></a>\n",
    "    \n",
    "~~Cecilia, en la parte final del proyecto he dejado un comentario sobre estos dos gráficos.~~ </div>\n",
    "\n",
    "<div class=\"alert alert-block alert-success\">\n",
    "<b>Comentario del revisor #3</b> <a class=\"tocSkip\"></a>\n",
    "    \n",
    "Perfecto, buen trabajo con las modificaciones. </div>"
   ]
  },
  {
   "cell_type": "markdown",
   "metadata": {},
   "source": [
    "Existen muchos usuarios con dos o cuatro pedidos. Se desconoce la proporción exacta, ya que no está claro si debemos considerarlos anomalías o no."
   ]
  },
  {
   "cell_type": "code",
   "execution_count": 64,
   "metadata": {},
   "outputs": [
    {
     "name": "stdout",
     "output_type": "stream",
     "text": [
      "[2. 4.]\n"
     ]
    }
   ],
   "source": [
    "#Cálculo de los percentiles 95 y 99 para el número de pedidos por usuario. Define el punto en el cual un punto de datos se convierte en una anomalía.\n",
    "print(np.percentile(ordersByUsers['Orders'],[95,99]))"
   ]
  },
  {
   "cell_type": "markdown",
   "metadata": {},
   "source": [
    "No más del 5% de los usuarios realizaron más de 2 pedidos y el 1% de los usuarios realizaron más de 4.\n",
    "\n",
    "Por lo tanto, sería razonable establecer cuatro pedidos por usuario como límite inferior para el número de pedidos y filtrar las anomalías en base a ello."
   ]
  },
  {
   "cell_type": "code",
   "execution_count": 65,
   "metadata": {},
   "outputs": [
    {
     "data": {
      "text/plain": [
       "<matplotlib.collections.PathCollection at 0x7f45d4f38940>"
      ]
     },
     "execution_count": 65,
     "metadata": {},
     "output_type": "execute_result"
    },
    {
     "data": {
      "image/png": "[encoded data removed]",
      "text/plain": [
       "<Figure size 640x480 with 1 Axes>"
      ]
     },
     "metadata": {},
     "output_type": "display_data"
    }
   ],
   "source": [
    "# Gráfico de dispersión de los precios de los pedidos.\n",
    "x_values = pd.Series(range(0, len(orders['Revenue'])))\n",
    "plt.scatter(x_values, orders['Revenue'])\n"
   ]
  },
  {
   "cell_type": "markdown",
   "metadata": {},
   "source": [
    "La mayoría de los precios de los pedidos son menores a 2500, existen pocos valores atípicos que sobrepasan esa cantidad, siendo un precio en particular de 20,000."
   ]
  },
  {
   "cell_type": "code",
   "execution_count": 66,
   "metadata": {},
   "outputs": [
    {
     "name": "stdout",
     "output_type": "stream",
     "text": [
      "[435.54  900.904]\n"
     ]
    }
   ],
   "source": [
    "#Calculo de los percentiles 95 y 99 de los precios de los pedidos. \n",
    "print(np.percentile(orders['Revenue'], [95, 99]))"
   ]
  },
  {
   "cell_type": "markdown",
   "metadata": {},
   "source": [
    "<div class=\"alert alert-block alert-success\">\n",
    "<b>Comentario del revisor #2</b> <a class=\"tocSkip\"></a>\n",
    "    \n",
    "Buen trabajo con el desarrollo del gráfico. </div>"
   ]
  },
  {
   "cell_type": "markdown",
   "metadata": {},
   "source": [
    "No más del 5% de los precios de los pedidos son de 435.6 y el 1% de los precios es de 896.71"
   ]
  },
  {
   "cell_type": "code",
   "execution_count": 67,
   "metadata": {},
   "outputs": [
    {
     "name": "stdout",
     "output_type": "stream",
     "text": [
      "0.017\n",
      "0.138\n"
     ]
    }
   ],
   "source": [
    "# Significancia estadística de la diferencia en la conversión entre los grupos utilizando los datos en bruto.\n",
    "ordersByUsersA = orders[orders['Group']=='A'].groupby('Visitor_Id', as_index=False).agg({'Transaction_Id' : pd.Series.nunique})\n",
    "ordersByUsersA.columns = ['User_Id', 'Orders']\n",
    "\n",
    "ordersByUsersB = orders[orders['Group']=='B'].groupby('Visitor_Id', as_index=False).agg({'Transaction_Id' : pd.Series.nunique})\n",
    "ordersByUsersB.columns = ['User_Id', 'Orders']\n",
    "\n",
    "#Declararemos las variables sampleA y sampleB\n",
    "sampleA = pd.concat([ordersByUsersA['Orders'],pd.Series(0, index=np.arange(visits[visits['Group']=='A']['Visits'].sum() - len(ordersByUsersA['Orders'])), name='Orders')],axis=0)\n",
    "sampleB = pd.concat([ordersByUsersB['Orders'],pd.Series(0, index=np.arange(visits[visits['Group']=='B']['Visits'].sum() - len(ordersByUsersB['Orders'])), name='Orders')],axis=0)\n",
    "\n",
    "print(\"{0:.3f}\".format(stats.mannwhitneyu(sampleA, sampleB)[1]))\n",
    "\n",
    "print(\"{0:.3f}\".format(sampleB.mean()/sampleA.mean()-1))"
   ]
  },
  {
   "cell_type": "markdown",
   "metadata": {},
   "source": [
    "sampleA almacena una muestra donde cada elemento es el número de pedidos realizados por cierto usuario, incluidos los ceros. Entonces, el número de elementos de sampleA es el número de usuarios, y la suma de todos los elementos es el número de pedidos. Para obtener la tasa de conversión del grupo, tendremos que dividir la suma de los pedidos entre la cantidad de usuarios. Con el método mean(), encontraremos la media para sampleA. Encontraremos la tasa de conversión para el grupo B de manera similar: sampleB.mean().\n",
    "\n",
    "La primera fila de la salida nos da el valor p 0.016, que es menor que 0.05. Entonces, podemos rechazar la hipótesis nula ya que hay una diferencia estadísticamente significativa en la conversión entre los grupos. No hay pérdidas relativa del grupo B."
   ]
  },
  {
   "cell_type": "code",
   "execution_count": 68,
   "metadata": {},
   "outputs": [
    {
     "name": "stdout",
     "output_type": "stream",
     "text": [
      "0.692\n",
      "0.252\n"
     ]
    }
   ],
   "source": [
    "#Significancia estadística de la diferencia en el tamaño promedio de pedido entre los grupos utilizando los datos en bruto\n",
    "print('{0:.3f}'.format(stats.mannwhitneyu(orders[orders['Group']=='A']['Revenue'], orders[orders['Group']=='B']['Revenue'])[1]))\n",
    "print('{0:.3f}'.format(orders[orders['Group']=='B']['Revenue'].mean()/orders[orders['Group']=='A']['Revenue'].mean()-1))"
   ]
  },
  {
   "cell_type": "markdown",
   "metadata": {},
   "source": [
    "El valor p es notablemente superior a 0.05 por lo que no hay motivo para rechazar la hipótesis nula y concluir que el tamaño medio de los pedidos difiere entre los grupos.\n",
    "Recuerda que los percentiles 95 y 99 para el tamaño de pedido promedio, fueron 435.6 y 896.71. "
   ]
  },
  {
   "cell_type": "code",
   "execution_count": 69,
   "metadata": {},
   "outputs": [
    {
     "name": "stdout",
     "output_type": "stream",
     "text": [
      "425    1920142716\n",
      "227    2038680547\n",
      "326    2378935119\n",
      "278    2458001652\n",
      "424    3062433592\n",
      "dtype: int64\n",
      "(8,)\n",
      "\n",
      "0.017\n",
      "0.132\n"
     ]
    }
   ],
   "source": [
    "#Significancia estadística de la diferencia en la conversión entre los grupos utilizando los datos filtrados.\n",
    "usersWithManyOrders = pd.concat([ordersByUsersA[ordersByUsersA['Orders'] > 4]['User_Id'], ordersByUsersB[ordersByUsersB['Orders'] > 3]['User_Id']], axis = 0)\n",
    "usersWithExpensiveOrders = orders[orders['Revenue'] > 18000]['Visitor_Id']\n",
    "abnormalUsers = pd.concat([usersWithManyOrders, usersWithExpensiveOrders], axis = 0).drop_duplicates().sort_values()\n",
    "print(abnormalUsers.head(5))\n",
    "print(abnormalUsers.shape)\n",
    "\n",
    "sampleAFiltered = pd.concat([ordersByUsersA[np.logical_not(ordersByUsersA['User_Id'].isin(abnormalUsers))]['Orders'],pd.Series(0, index=np.arange(visits[visits['Group']=='A']['Visits'].sum() - len(ordersByUsersA['Orders'])),name='Orders')],axis=0)\n",
    "sampleBFiltered = pd.concat([ordersByUsersB[np.logical_not(ordersByUsersB['User_Id'].isin(abnormalUsers))]['Orders'],pd.Series(0, index=np.arange(visits[visits['Group']=='B']['Visits'].sum() - len(ordersByUsersB['Orders'])),name='Orders')],axis=0)\n",
    "\n",
    "print()\n",
    "print(\"{0:.3f}\".format(stats.mannwhitneyu(sampleAFiltered, sampleBFiltered)[1]))\n",
    "print(\"{0:.3f}\".format(sampleBFiltered.mean()/sampleAFiltered.mean()-1))"
   ]
  },
  {
   "cell_type": "markdown",
   "metadata": {},
   "source": [
    "Vamos a definir los usuarios anómalos como aquellos que realizan más de 4 pedidos o un pedido mayor a $18, 000. Así eliminaremos el 5% de los usuarios con mayor número de pedidos y del 1% al 5% de los usuarios con los pedidos más caros. Los uniremos en una tabla llamada abnormalUsers.\n",
    "\n",
    "En total, tenemos 8 usuario anómalos.\n",
    "\n",
    "Los resultados de conversión casi no cambiaron. "
   ]
  },
  {
   "cell_type": "code",
   "execution_count": 70,
   "metadata": {},
   "outputs": [
    {
     "name": "stdout",
     "output_type": "stream",
     "text": [
      "0.992\n",
      "-0.039\n"
     ]
    }
   ],
   "source": [
    "#Significancia estadística de la diferencia en el tamaño promedio de pedido entre los grupos utilizando los datos filtrados.\n",
    "\n",
    "print('{0:.3f}'.format(stats.mannwhitneyu(\n",
    "    orders[np.logical_and(\n",
    "        orders['Group']=='A',\n",
    "        np.logical_not(orders['Visitor_Id'].isin(abnormalUsers)))]['Revenue'],\n",
    "    orders[np.logical_and(\n",
    "        orders['Group']=='B',\n",
    "        np.logical_not(orders['Visitor_Id'].isin(abnormalUsers)))]['Revenue'])[1]))\n",
    "\n",
    "print('{0:.3f}'.format(\n",
    "    orders[np.logical_and(orders['Group']=='B',np.logical_not(orders['Visitor_Id'].isin(abnormalUsers)))]['Revenue'].mean()/\n",
    "    orders[np.logical_and(\n",
    "        orders['Group']=='A',\n",
    "        np.logical_not(orders['Visitor_Id'].isin(abnormalUsers)))]['Revenue'].mean() - 1))"
   ]
  },
  {
   "cell_type": "markdown",
   "metadata": {},
   "source": [
    "El valor p aumentó pero ahora la diferencia entre los segmentos es del 3% en lugar del 25%."
   ]
  },
  {
   "cell_type": "markdown",
   "metadata": {},
   "source": [
    "<div class=\"alert alert-block alert-success\">\n",
    "<b>Comentario del revisor #2</b> <a class=\"tocSkip\"></a>\n",
    "    \n",
    "Perfecto, buen trabajo con el desarrollo de las secciones de estudio de la significancia estadística. </div>"
   ]
  },
  {
   "cell_type": "markdown",
   "metadata": {},
   "source": [
    "### Parte 3. Conclusiones\n",
    "\n",
    "-Ni los datos sin procesar ni los filtrados revelaron diferencias estadísticamente significativas en la conversión entre los grupos.\n",
    "\n",
    "-Ni los datos sin procesar ni los filtrados revelaron diferencias estadísticamente significativas en el tamaño promedio de los pedidos entre los grupos.\n",
    "\n",
    "-El gráfico que muestra la diferencia de conversión entre los grupos nos dice que los resultados del grupo B son mejores y parecen mejorar significativamente.\n",
    "\n",
    "-El gráfico que muestra la diferencia en el tamaño medio de los pedidos entre los grupos nos dice que los resultados del grupo B están mejorando día tras día.\n",
    "\n",
    "Basándonos en estos hechos, podemos concluir que la prueba fue exitosa y el grupo lider fue el B. "
   ]
  },
  {
   "cell_type": "markdown",
   "metadata": {},
   "source": [
    "<div class=\"alert alert-block alert-info\">\n",
    "<b>Hola revisor! \n",
    "Ya elimine a los usuarios que se encontraban en ambos grupos, pero los resultados que cambiaron después de eso se me hacen un poco raros por el número de pedidos por usuario. \n",
    "Espero tus comentarios al respeto para saber si estoy bien o hay algo que cambiar aún \n",
    "   Muchas gracias! \n",
    "    </b> <a class=\"tocSkip\"></a>\n",
    "</div>"
   ]
  },
  {
   "cell_type": "markdown",
   "metadata": {},
   "source": [
    "<div class=\"alert alert-block alert-danger\">\n",
    "<b>Comentario del revisor #2</b> <a class=\"tocSkip\"></a>\n",
    "    \n",
    "~~Hola, Cecilia, concuerdo con tu comentario, de hecho, me tomó un tiempito ver que era lo que estaba pasando jeje. Fíjate que en las primeras secciones eliminaste los registros duplicados del dataframe ``orders`` usando como subset la variable ``Visitor_Id``, de modo que ya ningún cliente va a tener más de un pedido y por ende vemos reflejado eso en el gráfico. A continuación te dejo la línea de código que está provocando todo esto: ~~\n",
    "\n",
    "```python\n",
    "orders= orders.drop_duplicates(subset='Visitor_Id')\n",
    "```\n",
    "</div>"
   ]
  },
  {
   "cell_type": "markdown",
   "metadata": {},
   "source": [
    "<div class=\"alert alert-block alert-info\">\n",
    "<b>Hola nuevamente revisor! \n",
    "Creo que ya quedo solucionado todo, gracias a tu obs\n",
    "   Muchas gracias! \n",
    "    </b> <a class=\"tocSkip\"></a>\n",
    "</div>"
   ]
  }
 ],
 "metadata": {
  "ExecuteTimeLog": [
   {
    "duration": 4889,
    "start_time": "2024-06-26T22:12:16.737Z"
   },
   {
    "duration": 420,
    "start_time": "2024-06-26T22:16:41.546Z"
   },
   {
    "duration": 3,
    "start_time": "2024-06-26T22:16:47.388Z"
   },
   {
    "duration": 34,
    "start_time": "2024-06-26T22:16:48.345Z"
   },
   {
    "duration": 25,
    "start_time": "2024-06-26T22:17:09.393Z"
   },
   {
    "duration": 38,
    "start_time": "2024-06-26T22:23:46.367Z"
   },
   {
    "duration": 20,
    "start_time": "2024-06-26T22:23:59.454Z"
   },
   {
    "duration": 27,
    "start_time": "2024-06-26T22:39:02.340Z"
   },
   {
    "duration": 4,
    "start_time": "2024-06-26T22:39:07.486Z"
   },
   {
    "duration": 22,
    "start_time": "2024-06-26T22:39:08.137Z"
   },
   {
    "duration": 19,
    "start_time": "2024-06-26T22:39:08.874Z"
   },
   {
    "duration": 24,
    "start_time": "2024-06-26T22:39:10.437Z"
   },
   {
    "duration": 15,
    "start_time": "2024-06-26T22:39:26.790Z"
   },
   {
    "duration": 23,
    "start_time": "2024-06-26T22:39:33.037Z"
   },
   {
    "duration": 20,
    "start_time": "2024-06-26T22:40:02.204Z"
   },
   {
    "duration": 5057,
    "start_time": "2024-07-01T20:14:39.233Z"
   },
   {
    "duration": 31,
    "start_time": "2024-07-01T20:14:44.294Z"
   },
   {
    "duration": 27,
    "start_time": "2024-07-01T20:14:44.328Z"
   },
   {
    "duration": 15,
    "start_time": "2024-07-01T20:14:57.094Z"
   },
   {
    "duration": 24,
    "start_time": "2024-07-01T20:14:58.211Z"
   },
   {
    "duration": 17,
    "start_time": "2024-07-01T20:15:03.654Z"
   },
   {
    "duration": 21,
    "start_time": "2024-07-01T20:15:07.568Z"
   },
   {
    "duration": 24,
    "start_time": "2024-07-01T20:15:15.739Z"
   },
   {
    "duration": 21,
    "start_time": "2024-07-01T20:15:17.260Z"
   },
   {
    "duration": 29,
    "start_time": "2024-07-01T20:55:48.396Z"
   },
   {
    "duration": 24,
    "start_time": "2024-07-01T20:56:09.056Z"
   },
   {
    "duration": 5,
    "start_time": "2024-07-01T21:01:53.875Z"
   },
   {
    "duration": 8,
    "start_time": "2024-07-01T21:03:44.553Z"
   },
   {
    "duration": 11,
    "start_time": "2024-07-01T21:09:06.966Z"
   },
   {
    "duration": 16,
    "start_time": "2024-07-01T21:09:14.168Z"
   },
   {
    "duration": 7,
    "start_time": "2024-07-01T21:18:06.752Z"
   },
   {
    "duration": 774,
    "start_time": "2024-07-01T21:18:53.556Z"
   },
   {
    "duration": 61,
    "start_time": "2024-07-01T21:19:15.702Z"
   },
   {
    "duration": 53,
    "start_time": "2024-07-01T21:22:43.766Z"
   },
   {
    "duration": 54,
    "start_time": "2024-07-01T21:22:50.856Z"
   },
   {
    "duration": 39,
    "start_time": "2024-07-01T21:24:40.592Z"
   },
   {
    "duration": 1315,
    "start_time": "2024-07-01T21:24:55.747Z"
   },
   {
    "duration": 23,
    "start_time": "2024-07-01T21:24:57.066Z"
   },
   {
    "duration": 34,
    "start_time": "2024-07-01T21:24:57.092Z"
   },
   {
    "duration": 23,
    "start_time": "2024-07-01T21:24:57.129Z"
   },
   {
    "duration": 57,
    "start_time": "2024-07-01T21:24:57.156Z"
   },
   {
    "duration": 8,
    "start_time": "2024-07-01T21:24:57.216Z"
   },
   {
    "duration": 9,
    "start_time": "2024-07-01T21:24:57.227Z"
   },
   {
    "duration": 993,
    "start_time": "2024-07-01T21:24:57.239Z"
   },
   {
    "duration": 100,
    "start_time": "2024-07-01T21:25:20.283Z"
   },
   {
    "duration": 163,
    "start_time": "2024-07-01T21:25:41.658Z"
   },
   {
    "duration": 29,
    "start_time": "2024-07-01T21:25:47.770Z"
   },
   {
    "duration": 4,
    "start_time": "2024-07-01T21:25:53.584Z"
   },
   {
    "duration": 17,
    "start_time": "2024-07-01T21:25:54.299Z"
   },
   {
    "duration": 21,
    "start_time": "2024-07-01T21:25:59.389Z"
   },
   {
    "duration": 25,
    "start_time": "2024-07-01T21:26:00.166Z"
   },
   {
    "duration": 21,
    "start_time": "2024-07-01T21:26:00.939Z"
   },
   {
    "duration": 7,
    "start_time": "2024-07-01T21:26:01.661Z"
   },
   {
    "duration": 10,
    "start_time": "2024-07-01T21:26:02.913Z"
   },
   {
    "duration": 86,
    "start_time": "2024-07-01T21:26:03.795Z"
   },
   {
    "duration": 5624,
    "start_time": "2024-07-07T23:34:54.218Z"
   },
   {
    "duration": 33,
    "start_time": "2024-07-07T23:34:59.847Z"
   },
   {
    "duration": 1385,
    "start_time": "2024-07-07T23:35:07.198Z"
   },
   {
    "duration": 32,
    "start_time": "2024-07-07T23:35:08.589Z"
   },
   {
    "duration": 28,
    "start_time": "2024-07-07T23:35:08.627Z"
   },
   {
    "duration": 25,
    "start_time": "2024-07-07T23:35:08.658Z"
   },
   {
    "duration": 21,
    "start_time": "2024-07-07T23:35:08.714Z"
   },
   {
    "duration": 9,
    "start_time": "2024-07-07T23:35:08.738Z"
   },
   {
    "duration": 10,
    "start_time": "2024-07-07T23:35:08.750Z"
   },
   {
    "duration": 1025,
    "start_time": "2024-07-07T23:35:08.763Z"
   },
   {
    "duration": 5,
    "start_time": "2024-07-07T23:35:15.477Z"
   },
   {
    "duration": 30,
    "start_time": "2024-07-07T23:35:15.487Z"
   },
   {
    "duration": 28,
    "start_time": "2024-07-07T23:35:15.521Z"
   },
   {
    "duration": 37,
    "start_time": "2024-07-07T23:35:15.552Z"
   },
   {
    "duration": 39,
    "start_time": "2024-07-07T23:35:15.594Z"
   },
   {
    "duration": 9,
    "start_time": "2024-07-07T23:35:15.637Z"
   },
   {
    "duration": 10,
    "start_time": "2024-07-07T23:35:15.649Z"
   },
   {
    "duration": 130,
    "start_time": "2024-07-07T23:35:15.662Z"
   },
   {
    "duration": 5902,
    "start_time": "2024-07-08T01:51:48.966Z"
   },
   {
    "duration": 1446,
    "start_time": "2024-07-08T01:52:19.090Z"
   },
   {
    "duration": 43,
    "start_time": "2024-07-08T01:52:20.541Z"
   },
   {
    "duration": 42,
    "start_time": "2024-07-08T01:52:20.588Z"
   },
   {
    "duration": 31,
    "start_time": "2024-07-08T01:52:20.639Z"
   },
   {
    "duration": 27,
    "start_time": "2024-07-08T01:52:20.675Z"
   },
   {
    "duration": 14,
    "start_time": "2024-07-08T01:52:20.726Z"
   },
   {
    "duration": 13,
    "start_time": "2024-07-08T01:52:20.743Z"
   },
   {
    "duration": 1114,
    "start_time": "2024-07-08T01:52:20.761Z"
   },
   {
    "duration": 53,
    "start_time": "2024-07-08T01:54:00.725Z"
   },
   {
    "duration": 6,
    "start_time": "2024-07-08T01:54:19.547Z"
   },
   {
    "duration": 21,
    "start_time": "2024-07-08T01:54:19.558Z"
   },
   {
    "duration": 24,
    "start_time": "2024-07-08T01:54:19.583Z"
   },
   {
    "duration": 38,
    "start_time": "2024-07-08T01:54:19.611Z"
   },
   {
    "duration": 33,
    "start_time": "2024-07-08T01:54:19.656Z"
   },
   {
    "duration": 69,
    "start_time": "2024-07-08T01:54:19.693Z"
   },
   {
    "duration": 0,
    "start_time": "2024-07-08T01:54:19.765Z"
   },
   {
    "duration": 0,
    "start_time": "2024-07-08T01:54:19.767Z"
   },
   {
    "duration": 8,
    "start_time": "2024-07-08T01:54:41.704Z"
   },
   {
    "duration": 8,
    "start_time": "2024-07-08T01:54:51.200Z"
   },
   {
    "duration": 35,
    "start_time": "2024-07-08T02:00:03.090Z"
   },
   {
    "duration": 26,
    "start_time": "2024-07-08T02:00:13.980Z"
   },
   {
    "duration": 5,
    "start_time": "2024-07-08T02:00:19.923Z"
   },
   {
    "duration": 25,
    "start_time": "2024-07-08T02:00:19.932Z"
   },
   {
    "duration": 28,
    "start_time": "2024-07-08T02:00:19.962Z"
   },
   {
    "duration": 55,
    "start_time": "2024-07-08T02:00:19.992Z"
   },
   {
    "duration": 21,
    "start_time": "2024-07-08T02:00:20.051Z"
   },
   {
    "duration": 9,
    "start_time": "2024-07-08T02:00:20.078Z"
   },
   {
    "duration": 41,
    "start_time": "2024-07-08T02:00:20.090Z"
   },
   {
    "duration": 117,
    "start_time": "2024-07-08T02:00:20.134Z"
   },
   {
    "duration": 27,
    "start_time": "2024-07-08T02:00:29.412Z"
   },
   {
    "duration": 31,
    "start_time": "2024-07-08T02:00:36.139Z"
   },
   {
    "duration": 26,
    "start_time": "2024-07-08T02:00:43.564Z"
   },
   {
    "duration": 6,
    "start_time": "2024-07-08T02:01:17.710Z"
   },
   {
    "duration": 19,
    "start_time": "2024-07-08T02:01:17.721Z"
   },
   {
    "duration": 25,
    "start_time": "2024-07-08T02:01:17.744Z"
   },
   {
    "duration": 57,
    "start_time": "2024-07-08T02:01:17.773Z"
   },
   {
    "duration": 28,
    "start_time": "2024-07-08T02:01:17.834Z"
   },
   {
    "duration": 13,
    "start_time": "2024-07-08T02:01:17.866Z"
   },
   {
    "duration": 44,
    "start_time": "2024-07-08T02:01:17.886Z"
   },
   {
    "duration": 106,
    "start_time": "2024-07-08T02:01:17.934Z"
   },
   {
    "duration": 27,
    "start_time": "2024-07-08T02:01:28.899Z"
   },
   {
    "duration": 24,
    "start_time": "2024-07-08T02:01:42.272Z"
   },
   {
    "duration": 5,
    "start_time": "2024-07-08T02:01:52.593Z"
   },
   {
    "duration": 27,
    "start_time": "2024-07-08T02:01:52.607Z"
   },
   {
    "duration": 31,
    "start_time": "2024-07-08T02:01:52.638Z"
   },
   {
    "duration": 53,
    "start_time": "2024-07-08T02:01:52.675Z"
   },
   {
    "duration": 26,
    "start_time": "2024-07-08T02:01:52.732Z"
   },
   {
    "duration": 11,
    "start_time": "2024-07-08T02:01:52.763Z"
   },
   {
    "duration": 50,
    "start_time": "2024-07-08T02:01:52.779Z"
   },
   {
    "duration": 110,
    "start_time": "2024-07-08T02:01:52.833Z"
   },
   {
    "duration": 177,
    "start_time": "2024-07-08T02:02:55.163Z"
   },
   {
    "duration": 63,
    "start_time": "2024-07-08T02:03:30.193Z"
   },
   {
    "duration": 68,
    "start_time": "2024-07-08T02:03:42.592Z"
   },
   {
    "duration": 64,
    "start_time": "2024-07-08T02:03:57.783Z"
   },
   {
    "duration": 4,
    "start_time": "2024-07-08T02:04:03.020Z"
   },
   {
    "duration": 20,
    "start_time": "2024-07-08T02:04:03.029Z"
   },
   {
    "duration": 24,
    "start_time": "2024-07-08T02:04:03.052Z"
   },
   {
    "duration": 48,
    "start_time": "2024-07-08T02:04:03.080Z"
   },
   {
    "duration": 26,
    "start_time": "2024-07-08T02:04:03.133Z"
   },
   {
    "duration": 9,
    "start_time": "2024-07-08T02:04:03.162Z"
   },
   {
    "duration": 48,
    "start_time": "2024-07-08T02:04:03.175Z"
   },
   {
    "duration": 178,
    "start_time": "2024-07-08T02:04:03.230Z"
   },
   {
    "duration": 25,
    "start_time": "2024-07-08T02:08:22.767Z"
   },
   {
    "duration": 9,
    "start_time": "2024-07-08T02:08:30.276Z"
   },
   {
    "duration": 8,
    "start_time": "2024-07-08T02:08:38.770Z"
   },
   {
    "duration": 12,
    "start_time": "2024-07-08T02:08:58.857Z"
   },
   {
    "duration": 335,
    "start_time": "2024-07-08T18:32:12.402Z"
   },
   {
    "duration": 4858,
    "start_time": "2024-07-08T18:32:18.639Z"
   },
   {
    "duration": 27,
    "start_time": "2024-07-08T18:32:23.501Z"
   },
   {
    "duration": 25,
    "start_time": "2024-07-08T18:32:23.530Z"
   },
   {
    "duration": 24,
    "start_time": "2024-07-08T18:32:23.570Z"
   },
   {
    "duration": 19,
    "start_time": "2024-07-08T18:32:23.597Z"
   },
   {
    "duration": 9,
    "start_time": "2024-07-08T18:32:23.619Z"
   },
   {
    "duration": 9,
    "start_time": "2024-07-08T18:32:23.667Z"
   },
   {
    "duration": 7,
    "start_time": "2024-07-08T18:32:23.679Z"
   },
   {
    "duration": 7,
    "start_time": "2024-07-08T18:32:46.299Z"
   },
   {
    "duration": 8,
    "start_time": "2024-07-08T18:33:18.765Z"
   },
   {
    "duration": 8,
    "start_time": "2024-07-08T18:33:29.076Z"
   },
   {
    "duration": 5,
    "start_time": "2024-07-08T18:34:01.116Z"
   },
   {
    "duration": 4,
    "start_time": "2024-07-08T18:34:04.632Z"
   },
   {
    "duration": 124,
    "start_time": "2024-07-08T18:34:33.265Z"
   },
   {
    "duration": 6,
    "start_time": "2024-07-08T18:35:04.983Z"
   },
   {
    "duration": 6,
    "start_time": "2024-07-08T18:36:17.950Z"
   },
   {
    "duration": 5,
    "start_time": "2024-07-08T18:37:23.257Z"
   },
   {
    "duration": 1276,
    "start_time": "2024-07-08T18:37:34.462Z"
   },
   {
    "duration": 17,
    "start_time": "2024-07-08T18:37:35.741Z"
   },
   {
    "duration": 31,
    "start_time": "2024-07-08T18:37:35.760Z"
   },
   {
    "duration": 22,
    "start_time": "2024-07-08T18:37:35.794Z"
   },
   {
    "duration": 56,
    "start_time": "2024-07-08T18:37:35.820Z"
   },
   {
    "duration": 8,
    "start_time": "2024-07-08T18:37:35.879Z"
   },
   {
    "duration": 8,
    "start_time": "2024-07-08T18:37:35.890Z"
   },
   {
    "duration": 6,
    "start_time": "2024-07-08T18:37:35.901Z"
   },
   {
    "duration": 8,
    "start_time": "2024-07-08T18:37:35.910Z"
   },
   {
    "duration": 5,
    "start_time": "2024-07-08T18:38:07.664Z"
   },
   {
    "duration": 11,
    "start_time": "2024-07-08T18:38:27.745Z"
   },
   {
    "duration": 218,
    "start_time": "2024-07-08T18:40:37.838Z"
   },
   {
    "duration": 5,
    "start_time": "2024-07-08T18:41:00.463Z"
   },
   {
    "duration": 28,
    "start_time": "2024-07-08T18:41:08.743Z"
   },
   {
    "duration": 21,
    "start_time": "2024-07-08T18:45:55.344Z"
   },
   {
    "duration": 7,
    "start_time": "2024-07-08T18:46:39.944Z"
   },
   {
    "duration": 6,
    "start_time": "2024-07-08T18:46:58.626Z"
   },
   {
    "duration": 36,
    "start_time": "2024-07-08T18:47:13.868Z"
   },
   {
    "duration": 1215,
    "start_time": "2024-07-08T18:47:27.928Z"
   },
   {
    "duration": 22,
    "start_time": "2024-07-08T18:47:29.146Z"
   },
   {
    "duration": 6,
    "start_time": "2024-07-08T18:47:29.171Z"
   },
   {
    "duration": 24,
    "start_time": "2024-07-08T18:47:29.180Z"
   },
   {
    "duration": 22,
    "start_time": "2024-07-08T18:47:29.209Z"
   },
   {
    "duration": 21,
    "start_time": "2024-07-08T18:47:29.269Z"
   },
   {
    "duration": 9,
    "start_time": "2024-07-08T18:47:29.293Z"
   },
   {
    "duration": 7,
    "start_time": "2024-07-08T18:47:29.305Z"
   },
   {
    "duration": 6,
    "start_time": "2024-07-08T18:47:29.315Z"
   },
   {
    "duration": 7,
    "start_time": "2024-07-08T18:47:29.368Z"
   },
   {
    "duration": 6,
    "start_time": "2024-07-08T18:47:29.378Z"
   },
   {
    "duration": 6,
    "start_time": "2024-07-08T18:47:29.387Z"
   },
   {
    "duration": 238,
    "start_time": "2024-07-08T18:47:29.396Z"
   },
   {
    "duration": 0,
    "start_time": "2024-07-08T18:47:29.636Z"
   },
   {
    "duration": 5,
    "start_time": "2024-07-08T18:47:35.152Z"
   },
   {
    "duration": 5,
    "start_time": "2024-07-08T18:49:09.897Z"
   },
   {
    "duration": 6,
    "start_time": "2024-07-08T18:49:20.597Z"
   },
   {
    "duration": 5,
    "start_time": "2024-07-08T18:49:45.872Z"
   },
   {
    "duration": 1238,
    "start_time": "2024-07-08T18:50:05.406Z"
   },
   {
    "duration": 23,
    "start_time": "2024-07-08T18:50:06.648Z"
   },
   {
    "duration": 26,
    "start_time": "2024-07-08T18:50:06.674Z"
   },
   {
    "duration": 23,
    "start_time": "2024-07-08T18:50:06.705Z"
   },
   {
    "duration": 37,
    "start_time": "2024-07-08T18:50:06.731Z"
   },
   {
    "duration": 20,
    "start_time": "2024-07-08T18:50:06.771Z"
   },
   {
    "duration": 6,
    "start_time": "2024-07-08T18:50:06.793Z"
   },
   {
    "duration": 9,
    "start_time": "2024-07-08T18:50:06.802Z"
   },
   {
    "duration": 8,
    "start_time": "2024-07-08T18:50:06.815Z"
   },
   {
    "duration": 7,
    "start_time": "2024-07-08T18:50:06.870Z"
   },
   {
    "duration": 5,
    "start_time": "2024-07-08T18:50:06.880Z"
   },
   {
    "duration": 7,
    "start_time": "2024-07-08T18:50:06.888Z"
   },
   {
    "duration": 5,
    "start_time": "2024-07-08T18:50:06.898Z"
   },
   {
    "duration": 6,
    "start_time": "2024-07-08T18:50:06.907Z"
   },
   {
    "duration": 272,
    "start_time": "2024-07-08T18:50:06.916Z"
   },
   {
    "duration": 0,
    "start_time": "2024-07-08T18:50:07.191Z"
   },
   {
    "duration": 6,
    "start_time": "2024-07-08T18:51:05.340Z"
   },
   {
    "duration": 6,
    "start_time": "2024-07-08T18:51:14.451Z"
   },
   {
    "duration": 1251,
    "start_time": "2024-07-08T18:51:26.817Z"
   },
   {
    "duration": 19,
    "start_time": "2024-07-08T18:51:28.074Z"
   },
   {
    "duration": 26,
    "start_time": "2024-07-08T18:51:28.095Z"
   },
   {
    "duration": 53,
    "start_time": "2024-07-08T18:51:28.124Z"
   },
   {
    "duration": 5,
    "start_time": "2024-07-08T18:51:28.183Z"
   },
   {
    "duration": 21,
    "start_time": "2024-07-08T18:51:28.192Z"
   },
   {
    "duration": 8,
    "start_time": "2024-07-08T18:51:28.216Z"
   },
   {
    "duration": 10,
    "start_time": "2024-07-08T18:51:28.267Z"
   },
   {
    "duration": 7,
    "start_time": "2024-07-08T18:51:28.282Z"
   },
   {
    "duration": 7,
    "start_time": "2024-07-08T18:51:28.292Z"
   },
   {
    "duration": 5,
    "start_time": "2024-07-08T18:51:28.303Z"
   },
   {
    "duration": 6,
    "start_time": "2024-07-08T18:51:28.311Z"
   },
   {
    "duration": 8,
    "start_time": "2024-07-08T18:51:28.367Z"
   },
   {
    "duration": 5,
    "start_time": "2024-07-08T18:51:28.381Z"
   },
   {
    "duration": 6,
    "start_time": "2024-07-08T18:51:28.388Z"
   },
   {
    "duration": 234,
    "start_time": "2024-07-08T18:51:28.398Z"
   },
   {
    "duration": 0,
    "start_time": "2024-07-08T18:51:28.634Z"
   },
   {
    "duration": 870,
    "start_time": "2024-07-08T18:55:38.546Z"
   },
   {
    "duration": 6,
    "start_time": "2024-07-08T18:55:39.520Z"
   },
   {
    "duration": 1326,
    "start_time": "2024-07-08T19:04:57.785Z"
   },
   {
    "duration": 26,
    "start_time": "2024-07-08T19:04:59.115Z"
   },
   {
    "duration": 38,
    "start_time": "2024-07-08T19:04:59.149Z"
   },
   {
    "duration": 32,
    "start_time": "2024-07-08T19:04:59.190Z"
   },
   {
    "duration": 47,
    "start_time": "2024-07-08T19:04:59.228Z"
   },
   {
    "duration": 8,
    "start_time": "2024-07-08T19:04:59.278Z"
   },
   {
    "duration": 8,
    "start_time": "2024-07-08T19:04:59.289Z"
   },
   {
    "duration": 6,
    "start_time": "2024-07-08T19:04:59.301Z"
   },
   {
    "duration": 7,
    "start_time": "2024-07-08T19:04:59.311Z"
   },
   {
    "duration": 17,
    "start_time": "2024-07-08T19:04:59.369Z"
   },
   {
    "duration": 7,
    "start_time": "2024-07-08T19:04:59.390Z"
   },
   {
    "duration": 9,
    "start_time": "2024-07-08T19:04:59.400Z"
   },
   {
    "duration": 7,
    "start_time": "2024-07-08T19:04:59.412Z"
   },
   {
    "duration": 7,
    "start_time": "2024-07-08T19:05:27.962Z"
   },
   {
    "duration": 4,
    "start_time": "2024-07-08T19:05:36.139Z"
   },
   {
    "duration": 18,
    "start_time": "2024-07-08T19:05:36.148Z"
   },
   {
    "duration": 20,
    "start_time": "2024-07-08T19:05:36.172Z"
   },
   {
    "duration": 23,
    "start_time": "2024-07-08T19:05:36.195Z"
   },
   {
    "duration": 54,
    "start_time": "2024-07-08T19:05:36.223Z"
   },
   {
    "duration": 9,
    "start_time": "2024-07-08T19:05:36.280Z"
   },
   {
    "duration": 8,
    "start_time": "2024-07-08T19:05:36.292Z"
   },
   {
    "duration": 7,
    "start_time": "2024-07-08T19:05:36.303Z"
   },
   {
    "duration": 52,
    "start_time": "2024-07-08T19:05:36.315Z"
   },
   {
    "duration": 6,
    "start_time": "2024-07-08T19:05:36.372Z"
   },
   {
    "duration": 9,
    "start_time": "2024-07-08T19:05:36.384Z"
   },
   {
    "duration": 3,
    "start_time": "2024-07-08T19:05:55.258Z"
   },
   {
    "duration": 16,
    "start_time": "2024-07-08T19:05:55.266Z"
   },
   {
    "duration": 21,
    "start_time": "2024-07-08T19:05:55.285Z"
   },
   {
    "duration": 59,
    "start_time": "2024-07-08T19:05:55.309Z"
   },
   {
    "duration": 19,
    "start_time": "2024-07-08T19:05:55.372Z"
   },
   {
    "duration": 7,
    "start_time": "2024-07-08T19:05:55.395Z"
   },
   {
    "duration": 7,
    "start_time": "2024-07-08T19:05:55.406Z"
   },
   {
    "duration": 7,
    "start_time": "2024-07-08T19:05:55.417Z"
   },
   {
    "duration": 52,
    "start_time": "2024-07-08T19:05:55.426Z"
   },
   {
    "duration": 6,
    "start_time": "2024-07-08T19:05:55.481Z"
   },
   {
    "duration": 11,
    "start_time": "2024-07-08T19:05:55.490Z"
   },
   {
    "duration": 7,
    "start_time": "2024-07-08T19:08:05.357Z"
   },
   {
    "duration": 6,
    "start_time": "2024-07-08T19:08:09.186Z"
   },
   {
    "duration": 8,
    "start_time": "2024-07-08T19:08:25.274Z"
   },
   {
    "duration": 12,
    "start_time": "2024-07-08T19:11:27.066Z"
   },
   {
    "duration": 7,
    "start_time": "2024-07-08T19:11:41.680Z"
   },
   {
    "duration": 12,
    "start_time": "2024-07-08T19:11:50.525Z"
   },
   {
    "duration": 17,
    "start_time": "2024-07-08T20:05:13.193Z"
   },
   {
    "duration": 11,
    "start_time": "2024-07-08T20:08:35.761Z"
   },
   {
    "duration": 24,
    "start_time": "2024-07-08T20:24:09.344Z"
   },
   {
    "duration": 22,
    "start_time": "2024-07-08T20:24:24.450Z"
   },
   {
    "duration": 15,
    "start_time": "2024-07-08T20:25:11.498Z"
   },
   {
    "duration": 14,
    "start_time": "2024-07-08T20:33:54.732Z"
   },
   {
    "duration": 1271,
    "start_time": "2024-07-08T20:34:17.276Z"
   },
   {
    "duration": 28,
    "start_time": "2024-07-08T20:34:18.551Z"
   },
   {
    "duration": 24,
    "start_time": "2024-07-08T20:34:18.582Z"
   },
   {
    "duration": 24,
    "start_time": "2024-07-08T20:34:18.609Z"
   },
   {
    "duration": 52,
    "start_time": "2024-07-08T20:34:18.637Z"
   },
   {
    "duration": 9,
    "start_time": "2024-07-08T20:34:18.692Z"
   },
   {
    "duration": 12,
    "start_time": "2024-07-08T20:34:18.703Z"
   },
   {
    "duration": 55,
    "start_time": "2024-07-08T20:34:18.717Z"
   },
   {
    "duration": 12,
    "start_time": "2024-07-08T20:34:18.775Z"
   },
   {
    "duration": 14,
    "start_time": "2024-07-08T20:34:18.791Z"
   },
   {
    "duration": 11,
    "start_time": "2024-07-08T20:34:34.994Z"
   },
   {
    "duration": 14,
    "start_time": "2024-07-08T20:34:48.362Z"
   },
   {
    "duration": 11,
    "start_time": "2024-07-08T20:35:04.280Z"
   },
   {
    "duration": 483,
    "start_time": "2024-07-08T20:35:30.375Z"
   },
   {
    "duration": 14,
    "start_time": "2024-07-08T20:35:42.141Z"
   },
   {
    "duration": 11,
    "start_time": "2024-07-08T20:35:59.418Z"
   },
   {
    "duration": 11,
    "start_time": "2024-07-08T20:36:07.414Z"
   },
   {
    "duration": 11,
    "start_time": "2024-07-08T20:36:39.807Z"
   },
   {
    "duration": 12,
    "start_time": "2024-07-08T20:36:58.402Z"
   },
   {
    "duration": 4,
    "start_time": "2024-07-08T21:06:15.702Z"
   },
   {
    "duration": 17,
    "start_time": "2024-07-08T21:08:03.767Z"
   },
   {
    "duration": 397,
    "start_time": "2024-07-08T21:15:48.008Z"
   },
   {
    "duration": 6,
    "start_time": "2024-07-08T21:16:35.598Z"
   },
   {
    "duration": 6,
    "start_time": "2024-07-08T21:16:51.618Z"
   },
   {
    "duration": 5,
    "start_time": "2024-07-08T21:17:08.511Z"
   },
   {
    "duration": 5,
    "start_time": "2024-07-08T21:17:27.525Z"
   },
   {
    "duration": 374,
    "start_time": "2024-07-08T21:20:01.249Z"
   },
   {
    "duration": 17,
    "start_time": "2024-07-08T21:24:46.768Z"
   },
   {
    "duration": 361,
    "start_time": "2024-07-08T21:26:00.133Z"
   },
   {
    "duration": 364,
    "start_time": "2024-07-08T21:26:29.337Z"
   },
   {
    "duration": 360,
    "start_time": "2024-07-08T21:27:10.431Z"
   },
   {
    "duration": 12,
    "start_time": "2024-07-08T21:39:48.723Z"
   },
   {
    "duration": 4,
    "start_time": "2024-07-08T21:40:21.254Z"
   },
   {
    "duration": 10,
    "start_time": "2024-07-08T21:40:26.323Z"
   },
   {
    "duration": 5,
    "start_time": "2024-07-08T21:41:42.871Z"
   },
   {
    "duration": 18,
    "start_time": "2024-07-08T21:41:46.780Z"
   },
   {
    "duration": 854,
    "start_time": "2024-07-08T21:42:32.731Z"
   },
   {
    "duration": 18,
    "start_time": "2024-07-08T21:42:43.408Z"
   },
   {
    "duration": 26,
    "start_time": "2024-07-08T21:47:53.647Z"
   },
   {
    "duration": 8,
    "start_time": "2024-07-08T21:48:03.644Z"
   },
   {
    "duration": 10,
    "start_time": "2024-07-08T21:48:24.572Z"
   },
   {
    "duration": 9,
    "start_time": "2024-07-08T21:48:55.259Z"
   },
   {
    "duration": 9,
    "start_time": "2024-07-08T21:49:19.569Z"
   },
   {
    "duration": 9,
    "start_time": "2024-07-08T21:49:45.339Z"
   },
   {
    "duration": 9,
    "start_time": "2024-07-08T21:49:58.822Z"
   },
   {
    "duration": 409,
    "start_time": "2024-07-08T21:50:14.043Z"
   },
   {
    "duration": 9,
    "start_time": "2024-07-08T22:08:30.623Z"
   },
   {
    "duration": 595,
    "start_time": "2024-07-08T22:09:13.830Z"
   },
   {
    "duration": 308,
    "start_time": "2024-07-09T00:02:59.979Z"
   },
   {
    "duration": 4834,
    "start_time": "2024-07-09T00:03:05.975Z"
   },
   {
    "duration": 31,
    "start_time": "2024-07-09T00:03:10.813Z"
   },
   {
    "duration": 24,
    "start_time": "2024-07-09T00:03:10.849Z"
   },
   {
    "duration": 42,
    "start_time": "2024-07-09T00:03:10.876Z"
   },
   {
    "duration": 24,
    "start_time": "2024-07-09T00:03:10.923Z"
   },
   {
    "duration": 9,
    "start_time": "2024-07-09T00:03:10.950Z"
   },
   {
    "duration": 47,
    "start_time": "2024-07-09T00:03:10.962Z"
   },
   {
    "duration": 14,
    "start_time": "2024-07-09T00:03:11.013Z"
   },
   {
    "duration": 13,
    "start_time": "2024-07-09T00:03:11.029Z"
   },
   {
    "duration": 13,
    "start_time": "2024-07-09T00:03:11.046Z"
   },
   {
    "duration": 688,
    "start_time": "2024-07-09T00:03:11.062Z"
   },
   {
    "duration": 19,
    "start_time": "2024-07-09T00:03:11.753Z"
   },
   {
    "duration": 9,
    "start_time": "2024-07-09T00:03:11.774Z"
   },
   {
    "duration": 697,
    "start_time": "2024-07-09T00:03:11.814Z"
   },
   {
    "duration": 122,
    "start_time": "2024-07-09T00:10:32.679Z"
   },
   {
    "duration": 8,
    "start_time": "2024-07-09T00:10:42.681Z"
   },
   {
    "duration": 8,
    "start_time": "2024-07-09T00:11:07.943Z"
   },
   {
    "duration": 12,
    "start_time": "2024-07-09T00:13:04.673Z"
   },
   {
    "duration": 12,
    "start_time": "2024-07-09T00:14:23.239Z"
   },
   {
    "duration": 13,
    "start_time": "2024-07-09T00:14:32.558Z"
   },
   {
    "duration": 9,
    "start_time": "2024-07-09T00:15:25.613Z"
   },
   {
    "duration": 11,
    "start_time": "2024-07-09T00:20:06.704Z"
   },
   {
    "duration": 24,
    "start_time": "2024-07-09T00:20:21.047Z"
   },
   {
    "duration": 12,
    "start_time": "2024-07-09T00:20:29.958Z"
   },
   {
    "duration": 26,
    "start_time": "2024-07-09T00:35:56.978Z"
   },
   {
    "duration": 782,
    "start_time": "2024-07-09T00:39:42.137Z"
   },
   {
    "duration": 26,
    "start_time": "2024-07-09T00:42:32.284Z"
   },
   {
    "duration": 30,
    "start_time": "2024-07-09T00:43:09.231Z"
   },
   {
    "duration": 33,
    "start_time": "2024-07-09T00:43:15.532Z"
   },
   {
    "duration": 38,
    "start_time": "2024-07-09T00:43:42.664Z"
   },
   {
    "duration": 26,
    "start_time": "2024-07-09T00:44:55.340Z"
   },
   {
    "duration": 1060,
    "start_time": "2024-07-09T00:47:44.474Z"
   },
   {
    "duration": 75,
    "start_time": "2024-07-09T00:47:59.942Z"
   },
   {
    "duration": 1276,
    "start_time": "2024-07-09T00:48:10.801Z"
   },
   {
    "duration": 20,
    "start_time": "2024-07-09T00:48:12.081Z"
   },
   {
    "duration": 25,
    "start_time": "2024-07-09T00:48:12.108Z"
   },
   {
    "duration": 24,
    "start_time": "2024-07-09T00:48:12.136Z"
   },
   {
    "duration": 57,
    "start_time": "2024-07-09T00:48:12.164Z"
   },
   {
    "duration": 8,
    "start_time": "2024-07-09T00:48:12.224Z"
   },
   {
    "duration": 11,
    "start_time": "2024-07-09T00:48:12.235Z"
   },
   {
    "duration": 13,
    "start_time": "2024-07-09T00:48:12.249Z"
   },
   {
    "duration": 53,
    "start_time": "2024-07-09T00:48:12.265Z"
   },
   {
    "duration": 14,
    "start_time": "2024-07-09T00:48:12.321Z"
   },
   {
    "duration": 27,
    "start_time": "2024-07-09T00:48:12.339Z"
   },
   {
    "duration": 1168,
    "start_time": "2024-07-09T00:48:12.368Z"
   },
   {
    "duration": 0,
    "start_time": "2024-07-09T00:48:13.542Z"
   },
   {
    "duration": 0,
    "start_time": "2024-07-09T00:48:13.544Z"
   },
   {
    "duration": 0,
    "start_time": "2024-07-09T00:48:13.545Z"
   },
   {
    "duration": 0,
    "start_time": "2024-07-09T00:48:13.547Z"
   },
   {
    "duration": 0,
    "start_time": "2024-07-09T00:48:13.549Z"
   },
   {
    "duration": 5,
    "start_time": "2024-07-09T00:48:23.389Z"
   },
   {
    "duration": 18,
    "start_time": "2024-07-09T00:48:23.399Z"
   },
   {
    "duration": 23,
    "start_time": "2024-07-09T00:48:23.421Z"
   },
   {
    "duration": 25,
    "start_time": "2024-07-09T00:48:23.446Z"
   },
   {
    "duration": 48,
    "start_time": "2024-07-09T00:48:23.476Z"
   },
   {
    "duration": 8,
    "start_time": "2024-07-09T00:48:23.527Z"
   },
   {
    "duration": 11,
    "start_time": "2024-07-09T00:48:23.538Z"
   },
   {
    "duration": 12,
    "start_time": "2024-07-09T00:48:23.551Z"
   },
   {
    "duration": 12,
    "start_time": "2024-07-09T00:48:23.608Z"
   },
   {
    "duration": 15,
    "start_time": "2024-07-09T00:48:23.623Z"
   },
   {
    "duration": 26,
    "start_time": "2024-07-09T00:48:23.641Z"
   },
   {
    "duration": 126,
    "start_time": "2024-07-09T00:48:23.670Z"
   },
   {
    "duration": 0,
    "start_time": "2024-07-09T00:48:23.809Z"
   },
   {
    "duration": 0,
    "start_time": "2024-07-09T00:48:23.811Z"
   },
   {
    "duration": 0,
    "start_time": "2024-07-09T00:48:23.813Z"
   },
   {
    "duration": 0,
    "start_time": "2024-07-09T00:48:23.816Z"
   },
   {
    "duration": 0,
    "start_time": "2024-07-09T00:48:23.817Z"
   },
   {
    "duration": 32,
    "start_time": "2024-07-09T00:53:12.622Z"
   },
   {
    "duration": 39,
    "start_time": "2024-07-09T00:53:30.521Z"
   },
   {
    "duration": 119,
    "start_time": "2024-07-09T00:59:58.931Z"
   },
   {
    "duration": 320,
    "start_time": "2024-07-09T01:00:06.318Z"
   },
   {
    "duration": 10,
    "start_time": "2024-07-09T01:02:40.943Z"
   },
   {
    "duration": 42,
    "start_time": "2024-07-09T01:02:45.016Z"
   },
   {
    "duration": 286,
    "start_time": "2024-07-09T01:02:56.434Z"
   },
   {
    "duration": 243,
    "start_time": "2024-07-09T01:04:00.109Z"
   },
   {
    "duration": 295,
    "start_time": "2024-07-09T01:04:37.516Z"
   },
   {
    "duration": 298,
    "start_time": "2024-07-09T01:04:52.735Z"
   },
   {
    "duration": 7,
    "start_time": "2024-07-09T01:11:27.265Z"
   },
   {
    "duration": 304,
    "start_time": "2024-07-09T01:11:34.044Z"
   },
   {
    "duration": 251,
    "start_time": "2024-07-09T01:11:45.596Z"
   },
   {
    "duration": 301,
    "start_time": "2024-07-09T01:11:53.116Z"
   },
   {
    "duration": 296,
    "start_time": "2024-07-09T01:12:21.460Z"
   },
   {
    "duration": 303,
    "start_time": "2024-07-09T01:12:34.830Z"
   },
   {
    "duration": 20,
    "start_time": "2024-07-09T01:13:06.496Z"
   },
   {
    "duration": 401,
    "start_time": "2024-07-09T01:14:38.896Z"
   },
   {
    "duration": 627,
    "start_time": "2024-07-09T01:14:46.650Z"
   },
   {
    "duration": 368,
    "start_time": "2024-07-09T01:14:52.368Z"
   },
   {
    "duration": 383,
    "start_time": "2024-07-09T01:15:04.044Z"
   },
   {
    "duration": 463,
    "start_time": "2024-07-09T01:16:31.488Z"
   },
   {
    "duration": 350,
    "start_time": "2024-07-09T01:16:50.978Z"
   },
   {
    "duration": 15,
    "start_time": "2024-07-09T01:18:04.001Z"
   },
   {
    "duration": 32,
    "start_time": "2024-07-09T01:18:41.974Z"
   },
   {
    "duration": 23,
    "start_time": "2024-07-09T01:21:01.093Z"
   },
   {
    "duration": 11,
    "start_time": "2024-07-09T01:21:33.861Z"
   },
   {
    "duration": 15,
    "start_time": "2024-07-09T01:21:40.928Z"
   },
   {
    "duration": 24,
    "start_time": "2024-07-09T01:21:50.115Z"
   },
   {
    "duration": 24,
    "start_time": "2024-07-09T01:22:01.110Z"
   },
   {
    "duration": 9,
    "start_time": "2024-07-09T01:22:17.886Z"
   },
   {
    "duration": 14,
    "start_time": "2024-07-09T01:22:31.262Z"
   },
   {
    "duration": 13,
    "start_time": "2024-07-09T01:22:40.040Z"
   },
   {
    "duration": 12,
    "start_time": "2024-07-09T01:22:43.858Z"
   },
   {
    "duration": 1217,
    "start_time": "2024-07-09T01:23:17.763Z"
   },
   {
    "duration": 17,
    "start_time": "2024-07-09T01:23:18.983Z"
   },
   {
    "duration": 26,
    "start_time": "2024-07-09T01:23:19.008Z"
   },
   {
    "duration": 23,
    "start_time": "2024-07-09T01:23:19.039Z"
   },
   {
    "duration": 55,
    "start_time": "2024-07-09T01:23:19.065Z"
   },
   {
    "duration": 9,
    "start_time": "2024-07-09T01:23:19.123Z"
   },
   {
    "duration": 11,
    "start_time": "2024-07-09T01:23:19.135Z"
   },
   {
    "duration": 14,
    "start_time": "2024-07-09T01:23:19.149Z"
   },
   {
    "duration": 12,
    "start_time": "2024-07-09T01:23:19.208Z"
   },
   {
    "duration": 13,
    "start_time": "2024-07-09T01:23:19.227Z"
   },
   {
    "duration": 26,
    "start_time": "2024-07-09T01:23:19.244Z"
   },
   {
    "duration": 43,
    "start_time": "2024-07-09T01:23:19.273Z"
   },
   {
    "duration": 425,
    "start_time": "2024-07-09T01:23:19.319Z"
   },
   {
    "duration": 3,
    "start_time": "2024-07-09T01:23:19.747Z"
   },
   {
    "duration": 12,
    "start_time": "2024-07-09T01:24:01.455Z"
   },
   {
    "duration": 13,
    "start_time": "2024-07-09T01:24:12.938Z"
   },
   {
    "duration": 1419,
    "start_time": "2024-07-09T01:24:31.921Z"
   },
   {
    "duration": 167,
    "start_time": "2024-07-09T01:24:53.738Z"
   },
   {
    "duration": 36,
    "start_time": "2024-07-09T01:25:31.062Z"
   },
   {
    "duration": 22,
    "start_time": "2024-07-09T01:26:18.655Z"
   },
   {
    "duration": 18,
    "start_time": "2024-07-09T01:26:45.279Z"
   },
   {
    "duration": 20,
    "start_time": "2024-07-09T01:27:35.157Z"
   },
   {
    "duration": 17,
    "start_time": "2024-07-09T01:28:09.436Z"
   },
   {
    "duration": 25,
    "start_time": "2024-07-09T01:28:34.999Z"
   },
   {
    "duration": 21,
    "start_time": "2024-07-09T01:28:40.992Z"
   },
   {
    "duration": 14,
    "start_time": "2024-07-09T01:34:56.849Z"
   },
   {
    "duration": 16,
    "start_time": "2024-07-09T01:35:04.278Z"
   },
   {
    "duration": 17,
    "start_time": "2024-07-09T01:36:14.594Z"
   },
   {
    "duration": 15,
    "start_time": "2024-07-09T01:36:17.632Z"
   },
   {
    "duration": 25,
    "start_time": "2024-07-09T01:37:33.772Z"
   },
   {
    "duration": 22,
    "start_time": "2024-07-09T01:38:01.419Z"
   },
   {
    "duration": 18,
    "start_time": "2024-07-09T01:38:02.709Z"
   },
   {
    "duration": 31,
    "start_time": "2024-07-09T01:38:19.909Z"
   },
   {
    "duration": 215,
    "start_time": "2024-07-09T01:39:50.516Z"
   },
   {
    "duration": 520,
    "start_time": "2024-07-09T01:40:08.056Z"
   },
   {
    "duration": 311,
    "start_time": "2024-07-09T01:40:35.353Z"
   },
   {
    "duration": 429,
    "start_time": "2024-07-09T01:41:28.096Z"
   },
   {
    "duration": 9,
    "start_time": "2024-07-09T01:44:16.643Z"
   },
   {
    "duration": 35,
    "start_time": "2024-07-09T01:44:27.739Z"
   },
   {
    "duration": 327,
    "start_time": "2024-07-09T01:50:11.360Z"
   },
   {
    "duration": 17,
    "start_time": "2024-07-09T01:54:49.294Z"
   },
   {
    "duration": 22,
    "start_time": "2024-07-09T01:55:29.013Z"
   },
   {
    "duration": 18,
    "start_time": "2024-07-09T01:55:59.886Z"
   },
   {
    "duration": 37,
    "start_time": "2024-07-09T01:56:23.734Z"
   },
   {
    "duration": 21,
    "start_time": "2024-07-09T01:56:31.675Z"
   },
   {
    "duration": 22,
    "start_time": "2024-07-09T01:56:39.249Z"
   },
   {
    "duration": 27,
    "start_time": "2024-07-09T01:57:03.718Z"
   },
   {
    "duration": 25,
    "start_time": "2024-07-09T01:57:19.847Z"
   },
   {
    "duration": 42,
    "start_time": "2024-07-09T01:59:34.550Z"
   },
   {
    "duration": 3267,
    "start_time": "2024-07-09T02:04:02.804Z"
   },
   {
    "duration": 28,
    "start_time": "2024-07-09T02:05:20.737Z"
   },
   {
    "duration": 49,
    "start_time": "2024-07-09T02:05:27.558Z"
   },
   {
    "duration": 1572,
    "start_time": "2024-07-09T02:06:10.668Z"
   },
   {
    "duration": 24,
    "start_time": "2024-07-09T02:06:12.244Z"
   },
   {
    "duration": 42,
    "start_time": "2024-07-09T02:06:12.271Z"
   },
   {
    "duration": 34,
    "start_time": "2024-07-09T02:06:12.318Z"
   },
   {
    "duration": 51,
    "start_time": "2024-07-09T02:06:12.357Z"
   },
   {
    "duration": 12,
    "start_time": "2024-07-09T02:06:12.416Z"
   },
   {
    "duration": 13,
    "start_time": "2024-07-09T02:06:12.431Z"
   },
   {
    "duration": 15,
    "start_time": "2024-07-09T02:06:12.448Z"
   },
   {
    "duration": 47,
    "start_time": "2024-07-09T02:06:12.466Z"
   },
   {
    "duration": 18,
    "start_time": "2024-07-09T02:06:12.516Z"
   },
   {
    "duration": 23,
    "start_time": "2024-07-09T02:06:12.538Z"
   },
   {
    "duration": 57,
    "start_time": "2024-07-09T02:06:12.564Z"
   },
   {
    "duration": 471,
    "start_time": "2024-07-09T02:06:12.624Z"
   },
   {
    "duration": 24,
    "start_time": "2024-07-09T02:06:13.101Z"
   },
   {
    "duration": 23,
    "start_time": "2024-07-09T02:06:13.129Z"
   },
   {
    "duration": 66,
    "start_time": "2024-07-09T02:06:13.155Z"
   },
   {
    "duration": 395,
    "start_time": "2024-07-09T02:06:13.224Z"
   },
   {
    "duration": 28,
    "start_time": "2024-07-09T02:08:47.364Z"
   },
   {
    "duration": 28,
    "start_time": "2024-07-09T02:09:08.137Z"
   },
   {
    "duration": 35,
    "start_time": "2024-07-09T02:09:10.264Z"
   },
   {
    "duration": 32,
    "start_time": "2024-07-09T02:09:28.665Z"
   },
   {
    "duration": 31,
    "start_time": "2024-07-09T02:09:41.220Z"
   },
   {
    "duration": 23,
    "start_time": "2024-07-09T02:11:48.865Z"
   },
   {
    "duration": 17,
    "start_time": "2024-07-09T02:15:24.509Z"
   },
   {
    "duration": 451,
    "start_time": "2024-07-09T02:16:49.706Z"
   },
   {
    "duration": 376,
    "start_time": "2024-07-09T02:18:39.920Z"
   },
   {
    "duration": 666,
    "start_time": "2024-07-09T02:29:49.672Z"
   },
   {
    "duration": 1300,
    "start_time": "2024-07-09T02:30:43.203Z"
   },
   {
    "duration": 23,
    "start_time": "2024-07-09T02:30:44.509Z"
   },
   {
    "duration": 28,
    "start_time": "2024-07-09T02:30:44.534Z"
   },
   {
    "duration": 55,
    "start_time": "2024-07-09T02:30:44.566Z"
   },
   {
    "duration": 21,
    "start_time": "2024-07-09T02:30:44.625Z"
   },
   {
    "duration": 8,
    "start_time": "2024-07-09T02:30:44.649Z"
   },
   {
    "duration": 11,
    "start_time": "2024-07-09T02:30:44.660Z"
   },
   {
    "duration": 14,
    "start_time": "2024-07-09T02:30:44.710Z"
   },
   {
    "duration": 13,
    "start_time": "2024-07-09T02:30:44.727Z"
   },
   {
    "duration": 16,
    "start_time": "2024-07-09T02:30:44.748Z"
   },
   {
    "duration": 59,
    "start_time": "2024-07-09T02:30:44.767Z"
   },
   {
    "duration": 20,
    "start_time": "2024-07-09T02:30:44.830Z"
   },
   {
    "duration": 384,
    "start_time": "2024-07-09T02:30:44.853Z"
   },
   {
    "duration": 24,
    "start_time": "2024-07-09T02:30:45.239Z"
   },
   {
    "duration": 58,
    "start_time": "2024-07-09T02:30:45.266Z"
   },
   {
    "duration": 417,
    "start_time": "2024-07-09T02:30:45.328Z"
   },
   {
    "duration": 763,
    "start_time": "2024-07-09T02:30:45.748Z"
   },
   {
    "duration": 4,
    "start_time": "2024-07-09T02:31:35.432Z"
   },
   {
    "duration": 4,
    "start_time": "2024-07-09T02:31:41.938Z"
   },
   {
    "duration": 17,
    "start_time": "2024-07-09T02:31:41.946Z"
   },
   {
    "duration": 22,
    "start_time": "2024-07-09T02:31:41.966Z"
   },
   {
    "duration": 32,
    "start_time": "2024-07-09T02:31:41.991Z"
   },
   {
    "duration": 19,
    "start_time": "2024-07-09T02:31:42.029Z"
   },
   {
    "duration": 8,
    "start_time": "2024-07-09T02:31:42.052Z"
   },
   {
    "duration": 52,
    "start_time": "2024-07-09T02:31:42.063Z"
   },
   {
    "duration": 14,
    "start_time": "2024-07-09T02:31:42.119Z"
   },
   {
    "duration": 13,
    "start_time": "2024-07-09T02:31:42.136Z"
   },
   {
    "duration": 12,
    "start_time": "2024-07-09T02:31:42.155Z"
   },
   {
    "duration": 18,
    "start_time": "2024-07-09T02:31:42.209Z"
   },
   {
    "duration": 17,
    "start_time": "2024-07-09T02:31:42.230Z"
   },
   {
    "duration": 360,
    "start_time": "2024-07-09T02:31:42.252Z"
   },
   {
    "duration": 23,
    "start_time": "2024-07-09T02:31:42.615Z"
   },
   {
    "duration": 22,
    "start_time": "2024-07-09T02:31:42.642Z"
   },
   {
    "duration": 436,
    "start_time": "2024-07-09T02:31:42.667Z"
   },
   {
    "duration": 70,
    "start_time": "2024-07-09T02:31:43.105Z"
   },
   {
    "duration": 4,
    "start_time": "2024-07-09T02:31:53.916Z"
   },
   {
    "duration": 17,
    "start_time": "2024-07-09T02:31:54.933Z"
   },
   {
    "duration": 4,
    "start_time": "2024-07-09T02:31:58.151Z"
   },
   {
    "duration": 17,
    "start_time": "2024-07-09T02:31:58.751Z"
   },
   {
    "duration": 21,
    "start_time": "2024-07-09T02:31:59.435Z"
   },
   {
    "duration": 23,
    "start_time": "2024-07-09T02:32:00.957Z"
   },
   {
    "duration": 20,
    "start_time": "2024-07-09T02:32:01.929Z"
   },
   {
    "duration": 8,
    "start_time": "2024-07-09T02:32:04.193Z"
   },
   {
    "duration": 12,
    "start_time": "2024-07-09T02:32:05.442Z"
   },
   {
    "duration": 12,
    "start_time": "2024-07-09T02:32:12.241Z"
   },
   {
    "duration": 14,
    "start_time": "2024-07-09T02:32:13.361Z"
   },
   {
    "duration": 13,
    "start_time": "2024-07-09T02:32:14.626Z"
   },
   {
    "duration": 18,
    "start_time": "2024-07-09T02:32:23.004Z"
   },
   {
    "duration": 20,
    "start_time": "2024-07-09T02:32:25.496Z"
   },
   {
    "duration": 420,
    "start_time": "2024-07-09T02:32:27.263Z"
   },
   {
    "duration": 24,
    "start_time": "2024-07-09T02:32:29.305Z"
   },
   {
    "duration": 22,
    "start_time": "2024-07-09T02:32:30.267Z"
   },
   {
    "duration": 450,
    "start_time": "2024-07-09T02:32:31.158Z"
   },
   {
    "duration": 67,
    "start_time": "2024-07-09T02:32:31.989Z"
   },
   {
    "duration": 28,
    "start_time": "2024-07-09T02:33:29.653Z"
   },
   {
    "duration": 14,
    "start_time": "2024-07-09T02:33:59.652Z"
   },
   {
    "duration": 12,
    "start_time": "2024-07-09T02:35:03.283Z"
   },
   {
    "duration": 8,
    "start_time": "2024-07-09T02:37:17.030Z"
   },
   {
    "duration": 17,
    "start_time": "2024-07-09T02:37:23.349Z"
   },
   {
    "duration": 807,
    "start_time": "2024-07-09T02:46:29.257Z"
   },
   {
    "duration": 441,
    "start_time": "2024-07-09T02:46:56.001Z"
   },
   {
    "duration": 443,
    "start_time": "2024-07-09T02:47:06.970Z"
   },
   {
    "duration": 14,
    "start_time": "2024-07-09T02:51:19.788Z"
   },
   {
    "duration": 15,
    "start_time": "2024-07-09T02:51:53.703Z"
   },
   {
    "duration": 284,
    "start_time": "2024-07-09T02:54:17.409Z"
   },
   {
    "duration": 528,
    "start_time": "2024-07-09T02:56:11.014Z"
   },
   {
    "duration": 8,
    "start_time": "2024-07-09T02:56:20.692Z"
   },
   {
    "duration": 267,
    "start_time": "2024-07-09T02:56:26.798Z"
   },
   {
    "duration": 277,
    "start_time": "2024-07-09T02:56:34.063Z"
   },
   {
    "duration": 313,
    "start_time": "2024-07-09T02:57:07.133Z"
   },
   {
    "duration": 277,
    "start_time": "2024-07-09T02:58:21.770Z"
   },
   {
    "duration": 300,
    "start_time": "2024-07-09T02:58:28.849Z"
   },
   {
    "duration": 278,
    "start_time": "2024-07-09T03:01:56.940Z"
   },
   {
    "duration": 284,
    "start_time": "2024-07-09T03:02:16.024Z"
   },
   {
    "duration": 291,
    "start_time": "2024-07-09T03:03:52.270Z"
   },
   {
    "duration": 275,
    "start_time": "2024-07-09T03:03:57.788Z"
   },
   {
    "duration": 358,
    "start_time": "2024-07-09T03:09:09.503Z"
   },
   {
    "duration": 408,
    "start_time": "2024-07-09T03:10:52.104Z"
   },
   {
    "duration": 418,
    "start_time": "2024-07-09T03:11:03.099Z"
   },
   {
    "duration": 1623,
    "start_time": "2024-07-09T03:15:00.573Z"
   },
   {
    "duration": 278,
    "start_time": "2024-07-09T03:15:20.819Z"
   },
   {
    "duration": 318,
    "start_time": "2024-07-09T03:16:41.128Z"
   },
   {
    "duration": 249,
    "start_time": "2024-07-09T03:23:53.500Z"
   },
   {
    "duration": 668,
    "start_time": "2024-07-09T03:24:32.441Z"
   },
   {
    "duration": 429,
    "start_time": "2024-07-09T03:24:38.174Z"
   },
   {
    "duration": 426,
    "start_time": "2024-07-09T03:26:34.742Z"
   },
   {
    "duration": 497,
    "start_time": "2024-07-09T03:26:43.612Z"
   },
   {
    "duration": 443,
    "start_time": "2024-07-09T03:26:52.532Z"
   },
   {
    "duration": 461,
    "start_time": "2024-07-09T03:27:01.667Z"
   },
   {
    "duration": 454,
    "start_time": "2024-07-09T03:27:58.400Z"
   },
   {
    "duration": 442,
    "start_time": "2024-07-09T03:28:06.279Z"
   },
   {
    "duration": 83,
    "start_time": "2024-07-09T03:30:17.385Z"
   },
   {
    "duration": 6,
    "start_time": "2024-07-09T03:30:24.007Z"
   },
   {
    "duration": 28,
    "start_time": "2024-07-09T03:32:56.466Z"
   },
   {
    "duration": 32,
    "start_time": "2024-07-09T03:33:06.158Z"
   },
   {
    "duration": 6,
    "start_time": "2024-07-09T03:33:10.729Z"
   },
   {
    "duration": 184,
    "start_time": "2024-07-09T03:37:22.958Z"
   },
   {
    "duration": 213,
    "start_time": "2024-07-09T03:41:41.413Z"
   },
   {
    "duration": 7,
    "start_time": "2024-07-09T03:43:45.424Z"
   },
   {
    "duration": 6,
    "start_time": "2024-07-09T03:44:39.572Z"
   },
   {
    "duration": 210,
    "start_time": "2024-07-09T03:48:32.281Z"
   },
   {
    "duration": 245,
    "start_time": "2024-07-09T03:48:40.631Z"
   },
   {
    "duration": 9,
    "start_time": "2024-07-09T03:50:22.843Z"
   },
   {
    "duration": 243,
    "start_time": "2024-07-09T03:50:28.091Z"
   },
   {
    "duration": 290,
    "start_time": "2024-07-09T03:51:41.043Z"
   },
   {
    "duration": 310,
    "start_time": "2024-07-09T03:53:06.187Z"
   },
   {
    "duration": 16,
    "start_time": "2024-07-09T03:53:18.543Z"
   },
   {
    "duration": 346,
    "start_time": "2024-07-09T03:54:54.083Z"
   },
   {
    "duration": 257,
    "start_time": "2024-07-09T03:55:28.742Z"
   },
   {
    "duration": 240,
    "start_time": "2024-07-09T03:57:30.950Z"
   },
   {
    "duration": 271,
    "start_time": "2024-07-09T03:57:38.537Z"
   },
   {
    "duration": 287,
    "start_time": "2024-07-09T03:58:42.778Z"
   },
   {
    "duration": 4,
    "start_time": "2024-07-09T03:59:18.760Z"
   },
   {
    "duration": 5,
    "start_time": "2024-07-09T03:59:21.959Z"
   },
   {
    "duration": 16,
    "start_time": "2024-07-09T03:59:21.969Z"
   },
   {
    "duration": 26,
    "start_time": "2024-07-09T03:59:21.989Z"
   },
   {
    "duration": 29,
    "start_time": "2024-07-09T03:59:22.020Z"
   },
   {
    "duration": 21,
    "start_time": "2024-07-09T03:59:22.053Z"
   },
   {
    "duration": 32,
    "start_time": "2024-07-09T03:59:22.079Z"
   },
   {
    "duration": 13,
    "start_time": "2024-07-09T03:59:22.115Z"
   },
   {
    "duration": 15,
    "start_time": "2024-07-09T03:59:22.131Z"
   },
   {
    "duration": 17,
    "start_time": "2024-07-09T03:59:22.149Z"
   },
   {
    "duration": 60,
    "start_time": "2024-07-09T03:59:22.168Z"
   },
   {
    "duration": 23,
    "start_time": "2024-07-09T03:59:22.234Z"
   },
   {
    "duration": 441,
    "start_time": "2024-07-09T03:59:22.260Z"
   },
   {
    "duration": 14,
    "start_time": "2024-07-09T03:59:22.708Z"
   },
   {
    "duration": 340,
    "start_time": "2024-07-09T03:59:22.729Z"
   },
   {
    "duration": 314,
    "start_time": "2024-07-09T03:59:23.072Z"
   },
   {
    "duration": 416,
    "start_time": "2024-07-09T03:59:23.388Z"
   },
   {
    "duration": 329,
    "start_time": "2024-07-09T03:59:23.811Z"
   },
   {
    "duration": 692,
    "start_time": "2024-07-09T03:59:24.143Z"
   },
   {
    "duration": 208,
    "start_time": "2024-07-09T03:59:24.839Z"
   },
   {
    "duration": 6,
    "start_time": "2024-07-09T03:59:25.050Z"
   },
   {
    "duration": 234,
    "start_time": "2024-07-09T03:59:25.059Z"
   },
   {
    "duration": 17,
    "start_time": "2024-07-09T03:59:25.297Z"
   },
   {
    "duration": 303,
    "start_time": "2024-07-09T03:59:25.325Z"
   },
   {
    "duration": 15,
    "start_time": "2024-07-09T04:01:37.403Z"
   },
   {
    "duration": 1376,
    "start_time": "2024-07-09T04:02:22.542Z"
   },
   {
    "duration": 20,
    "start_time": "2024-07-09T04:02:23.922Z"
   },
   {
    "duration": 28,
    "start_time": "2024-07-09T04:02:23.945Z"
   },
   {
    "duration": 50,
    "start_time": "2024-07-09T04:02:23.977Z"
   },
   {
    "duration": 24,
    "start_time": "2024-07-09T04:02:24.032Z"
   },
   {
    "duration": 9,
    "start_time": "2024-07-09T04:02:24.059Z"
   },
   {
    "duration": 46,
    "start_time": "2024-07-09T04:02:24.072Z"
   },
   {
    "duration": 22,
    "start_time": "2024-07-09T04:02:24.121Z"
   },
   {
    "duration": 14,
    "start_time": "2024-07-09T04:02:24.146Z"
   },
   {
    "duration": 14,
    "start_time": "2024-07-09T04:02:24.163Z"
   },
   {
    "duration": 45,
    "start_time": "2024-07-09T04:02:24.181Z"
   },
   {
    "duration": 462,
    "start_time": "2024-07-09T04:02:24.230Z"
   },
   {
    "duration": 32,
    "start_time": "2024-07-09T04:02:24.696Z"
   },
   {
    "duration": 351,
    "start_time": "2024-07-09T04:02:24.735Z"
   },
   {
    "duration": 324,
    "start_time": "2024-07-09T04:02:25.089Z"
   },
   {
    "duration": 522,
    "start_time": "2024-07-09T04:02:25.416Z"
   },
   {
    "duration": 382,
    "start_time": "2024-07-09T04:02:25.941Z"
   },
   {
    "duration": 476,
    "start_time": "2024-07-09T04:02:26.326Z"
   },
   {
    "duration": 207,
    "start_time": "2024-07-09T04:02:26.810Z"
   },
   {
    "duration": 7,
    "start_time": "2024-07-09T04:02:27.020Z"
   },
   {
    "duration": 253,
    "start_time": "2024-07-09T04:02:27.031Z"
   },
   {
    "duration": 5,
    "start_time": "2024-07-09T04:02:27.287Z"
   },
   {
    "duration": 313,
    "start_time": "2024-07-09T04:02:27.311Z"
   },
   {
    "duration": 15,
    "start_time": "2024-07-09T04:02:27.628Z"
   },
   {
    "duration": 447,
    "start_time": "2024-07-09T04:05:08.637Z"
   },
   {
    "duration": 996,
    "start_time": "2024-07-09T04:08:55.052Z"
   },
   {
    "duration": 24,
    "start_time": "2024-07-09T04:09:17.436Z"
   },
   {
    "duration": 49,
    "start_time": "2024-07-09T04:10:11.244Z"
   },
   {
    "duration": 54,
    "start_time": "2024-07-09T04:10:20.694Z"
   },
   {
    "duration": 108,
    "start_time": "2024-07-09T04:13:58.457Z"
   },
   {
    "duration": 19,
    "start_time": "2024-07-09T04:14:10.353Z"
   },
   {
    "duration": 1302,
    "start_time": "2024-07-09T18:20:53.181Z"
   },
   {
    "duration": 18,
    "start_time": "2024-07-09T18:20:54.487Z"
   },
   {
    "duration": 26,
    "start_time": "2024-07-09T18:20:54.508Z"
   },
   {
    "duration": 56,
    "start_time": "2024-07-09T18:20:54.538Z"
   },
   {
    "duration": 20,
    "start_time": "2024-07-09T18:20:54.598Z"
   },
   {
    "duration": 8,
    "start_time": "2024-07-09T18:20:54.621Z"
   },
   {
    "duration": 13,
    "start_time": "2024-07-09T18:20:54.632Z"
   },
   {
    "duration": 13,
    "start_time": "2024-07-09T18:20:54.691Z"
   },
   {
    "duration": 14,
    "start_time": "2024-07-09T18:20:54.708Z"
   },
   {
    "duration": 14,
    "start_time": "2024-07-09T18:20:54.727Z"
   },
   {
    "duration": 58,
    "start_time": "2024-07-09T18:20:54.751Z"
   },
   {
    "duration": 448,
    "start_time": "2024-07-09T18:20:54.812Z"
   },
   {
    "duration": 28,
    "start_time": "2024-07-09T18:20:55.262Z"
   },
   {
    "duration": 318,
    "start_time": "2024-07-09T18:20:55.293Z"
   },
   {
    "duration": 295,
    "start_time": "2024-07-09T18:20:55.614Z"
   },
   {
    "duration": 502,
    "start_time": "2024-07-09T18:20:55.912Z"
   },
   {
    "duration": 346,
    "start_time": "2024-07-09T18:20:56.417Z"
   },
   {
    "duration": 451,
    "start_time": "2024-07-09T18:20:56.766Z"
   },
   {
    "duration": 202,
    "start_time": "2024-07-09T18:20:57.221Z"
   },
   {
    "duration": 7,
    "start_time": "2024-07-09T18:20:57.426Z"
   },
   {
    "duration": 241,
    "start_time": "2024-07-09T18:20:57.436Z"
   },
   {
    "duration": 15,
    "start_time": "2024-07-09T18:20:57.680Z"
   },
   {
    "duration": 316,
    "start_time": "2024-07-09T18:20:57.698Z"
   },
   {
    "duration": 15,
    "start_time": "2024-07-09T18:20:58.016Z"
   },
   {
    "duration": 71,
    "start_time": "2024-07-09T18:20:58.034Z"
   },
   {
    "duration": 19,
    "start_time": "2024-07-09T18:20:58.108Z"
   },
   {
    "duration": 411,
    "start_time": "2024-07-09T18:55:37.044Z"
   },
   {
    "duration": 1274,
    "start_time": "2024-07-09T19:05:43.417Z"
   },
   {
    "duration": 20,
    "start_time": "2024-07-09T19:06:44.076Z"
   },
   {
    "duration": 14,
    "start_time": "2024-07-09T19:06:51.123Z"
   },
   {
    "duration": 23,
    "start_time": "2024-07-09T19:07:48.737Z"
   },
   {
    "duration": 1774,
    "start_time": "2024-07-09T19:08:11.939Z"
   },
   {
    "duration": 500,
    "start_time": "2024-07-09T19:08:37.768Z"
   },
   {
    "duration": 346,
    "start_time": "2024-07-09T19:08:55.517Z"
   },
   {
    "duration": 377,
    "start_time": "2024-07-09T19:10:13.827Z"
   },
   {
    "duration": 442,
    "start_time": "2024-07-09T19:10:22.549Z"
   },
   {
    "duration": 444,
    "start_time": "2024-07-09T19:10:35.346Z"
   },
   {
    "duration": 1329,
    "start_time": "2024-07-09T19:30:36.880Z"
   },
   {
    "duration": 20,
    "start_time": "2024-07-09T19:30:38.213Z"
   },
   {
    "duration": 27,
    "start_time": "2024-07-09T19:30:38.236Z"
   },
   {
    "duration": 46,
    "start_time": "2024-07-09T19:30:38.266Z"
   },
   {
    "duration": 20,
    "start_time": "2024-07-09T19:30:38.318Z"
   },
   {
    "duration": 8,
    "start_time": "2024-07-09T19:30:38.342Z"
   },
   {
    "duration": 13,
    "start_time": "2024-07-09T19:30:38.390Z"
   },
   {
    "duration": 19,
    "start_time": "2024-07-09T19:30:38.406Z"
   },
   {
    "duration": 19,
    "start_time": "2024-07-09T19:30:38.428Z"
   },
   {
    "duration": 14,
    "start_time": "2024-07-09T19:30:38.490Z"
   },
   {
    "duration": 21,
    "start_time": "2024-07-09T19:30:38.507Z"
   },
   {
    "duration": 452,
    "start_time": "2024-07-09T19:30:38.531Z"
   },
   {
    "duration": 16,
    "start_time": "2024-07-09T19:30:38.986Z"
   },
   {
    "duration": 327,
    "start_time": "2024-07-09T19:30:39.009Z"
   },
   {
    "duration": 308,
    "start_time": "2024-07-09T19:30:39.338Z"
   },
   {
    "duration": 461,
    "start_time": "2024-07-09T19:30:39.649Z"
   },
   {
    "duration": 354,
    "start_time": "2024-07-09T19:30:40.113Z"
   },
   {
    "duration": 421,
    "start_time": "2024-07-09T19:30:40.470Z"
   },
   {
    "duration": 436,
    "start_time": "2024-07-09T19:30:40.894Z"
   },
   {
    "duration": 194,
    "start_time": "2024-07-09T19:30:41.334Z"
   },
   {
    "duration": 6,
    "start_time": "2024-07-09T19:30:41.531Z"
   },
   {
    "duration": 246,
    "start_time": "2024-07-09T19:30:41.541Z"
   },
   {
    "duration": 7,
    "start_time": "2024-07-09T19:30:41.791Z"
   },
   {
    "duration": 299,
    "start_time": "2024-07-09T19:30:41.802Z"
   },
   {
    "duration": 16,
    "start_time": "2024-07-09T19:30:42.104Z"
   },
   {
    "duration": 75,
    "start_time": "2024-07-09T19:30:42.124Z"
   },
   {
    "duration": 20,
    "start_time": "2024-07-09T19:30:42.202Z"
   },
   {
    "duration": 47,
    "start_time": "2024-07-09T19:46:06.096Z"
   },
   {
    "duration": 1282,
    "start_time": "2024-07-09T20:15:11.817Z"
   },
   {
    "duration": 20,
    "start_time": "2024-07-09T20:15:13.104Z"
   },
   {
    "duration": 27,
    "start_time": "2024-07-09T20:15:13.127Z"
   },
   {
    "duration": 49,
    "start_time": "2024-07-09T20:15:13.157Z"
   },
   {
    "duration": 20,
    "start_time": "2024-07-09T20:15:13.210Z"
   },
   {
    "duration": 11,
    "start_time": "2024-07-09T20:15:13.233Z"
   },
   {
    "duration": 49,
    "start_time": "2024-07-09T20:15:13.250Z"
   },
   {
    "duration": 13,
    "start_time": "2024-07-09T20:15:13.302Z"
   },
   {
    "duration": 14,
    "start_time": "2024-07-09T20:15:13.318Z"
   },
   {
    "duration": 14,
    "start_time": "2024-07-09T20:15:13.334Z"
   },
   {
    "duration": 55,
    "start_time": "2024-07-09T20:15:13.352Z"
   },
   {
    "duration": 441,
    "start_time": "2024-07-09T20:15:13.410Z"
   },
   {
    "duration": 15,
    "start_time": "2024-07-09T20:15:13.853Z"
   },
   {
    "duration": 329,
    "start_time": "2024-07-09T20:15:13.891Z"
   },
   {
    "duration": 305,
    "start_time": "2024-07-09T20:15:14.223Z"
   },
   {
    "duration": 483,
    "start_time": "2024-07-09T20:15:14.532Z"
   },
   {
    "duration": 349,
    "start_time": "2024-07-09T20:15:15.022Z"
   },
   {
    "duration": 412,
    "start_time": "2024-07-09T20:15:15.375Z"
   },
   {
    "duration": 430,
    "start_time": "2024-07-09T20:15:15.792Z"
   },
   {
    "duration": 194,
    "start_time": "2024-07-09T20:15:16.225Z"
   },
   {
    "duration": 6,
    "start_time": "2024-07-09T20:15:16.421Z"
   },
   {
    "duration": 242,
    "start_time": "2024-07-09T20:15:16.430Z"
   },
   {
    "duration": 7,
    "start_time": "2024-07-09T20:15:16.674Z"
   },
   {
    "duration": 287,
    "start_time": "2024-07-09T20:15:16.683Z"
   },
   {
    "duration": 26,
    "start_time": "2024-07-09T20:15:16.972Z"
   },
   {
    "duration": 47,
    "start_time": "2024-07-09T20:15:17.002Z"
   },
   {
    "duration": 48,
    "start_time": "2024-07-09T20:15:17.052Z"
   },
   {
    "duration": 1277,
    "start_time": "2024-07-09T20:18:26.619Z"
   },
   {
    "duration": 18,
    "start_time": "2024-07-09T20:18:27.901Z"
   },
   {
    "duration": 25,
    "start_time": "2024-07-09T20:18:27.923Z"
   },
   {
    "duration": 51,
    "start_time": "2024-07-09T20:18:27.951Z"
   },
   {
    "duration": 21,
    "start_time": "2024-07-09T20:18:28.007Z"
   },
   {
    "duration": 9,
    "start_time": "2024-07-09T20:18:28.031Z"
   },
   {
    "duration": 47,
    "start_time": "2024-07-09T20:18:28.044Z"
   },
   {
    "duration": 14,
    "start_time": "2024-07-09T20:18:28.094Z"
   },
   {
    "duration": 14,
    "start_time": "2024-07-09T20:18:28.111Z"
   },
   {
    "duration": 15,
    "start_time": "2024-07-09T20:18:28.127Z"
   },
   {
    "duration": 59,
    "start_time": "2024-07-09T20:18:28.145Z"
   },
   {
    "duration": 436,
    "start_time": "2024-07-09T20:18:28.207Z"
   },
   {
    "duration": 14,
    "start_time": "2024-07-09T20:18:28.646Z"
   },
   {
    "duration": 345,
    "start_time": "2024-07-09T20:18:28.667Z"
   },
   {
    "duration": 299,
    "start_time": "2024-07-09T20:18:29.015Z"
   },
   {
    "duration": 494,
    "start_time": "2024-07-09T20:18:29.317Z"
   },
   {
    "duration": 376,
    "start_time": "2024-07-09T20:18:29.815Z"
   },
   {
    "duration": 414,
    "start_time": "2024-07-09T20:18:30.194Z"
   },
   {
    "duration": 449,
    "start_time": "2024-07-09T20:18:30.611Z"
   },
   {
    "duration": 191,
    "start_time": "2024-07-09T20:18:31.064Z"
   },
   {
    "duration": 6,
    "start_time": "2024-07-09T20:18:31.258Z"
   },
   {
    "duration": 240,
    "start_time": "2024-07-09T20:18:31.268Z"
   },
   {
    "duration": 6,
    "start_time": "2024-07-09T20:18:31.511Z"
   },
   {
    "duration": 301,
    "start_time": "2024-07-09T20:18:31.520Z"
   },
   {
    "duration": 15,
    "start_time": "2024-07-09T20:18:31.824Z"
   },
   {
    "duration": 74,
    "start_time": "2024-07-09T20:18:31.843Z"
   },
   {
    "duration": 20,
    "start_time": "2024-07-09T20:18:31.920Z"
   },
   {
    "duration": 18,
    "start_time": "2024-07-10T17:05:01.361Z"
   },
   {
    "duration": 12,
    "start_time": "2024-07-10T17:05:06.303Z"
   },
   {
    "duration": 5545,
    "start_time": "2024-07-11T00:22:03.308Z"
   },
   {
    "duration": 52,
    "start_time": "2024-07-11T00:22:08.858Z"
   },
   {
    "duration": 26,
    "start_time": "2024-07-11T00:22:08.913Z"
   },
   {
    "duration": 24,
    "start_time": "2024-07-11T00:22:08.942Z"
   },
   {
    "duration": 40,
    "start_time": "2024-07-11T00:22:08.969Z"
   },
   {
    "duration": 8,
    "start_time": "2024-07-11T00:22:09.012Z"
   },
   {
    "duration": 12,
    "start_time": "2024-07-11T00:22:09.023Z"
   },
   {
    "duration": 43,
    "start_time": "2024-07-11T00:22:09.038Z"
   },
   {
    "duration": 14,
    "start_time": "2024-07-11T00:22:09.084Z"
   },
   {
    "duration": 18,
    "start_time": "2024-07-11T00:22:09.105Z"
   },
   {
    "duration": 58,
    "start_time": "2024-07-11T00:22:09.126Z"
   },
   {
    "duration": 472,
    "start_time": "2024-07-11T00:22:09.187Z"
   },
   {
    "duration": 15,
    "start_time": "2024-07-11T00:22:09.662Z"
   },
   {
    "duration": 351,
    "start_time": "2024-07-11T00:22:09.681Z"
   },
   {
    "duration": 327,
    "start_time": "2024-07-11T00:22:10.035Z"
   },
   {
    "duration": 429,
    "start_time": "2024-07-11T00:22:10.370Z"
   },
   {
    "duration": 382,
    "start_time": "2024-07-11T00:22:10.802Z"
   },
   {
    "duration": 451,
    "start_time": "2024-07-11T00:22:11.188Z"
   },
   {
    "duration": 535,
    "start_time": "2024-07-11T00:22:11.641Z"
   },
   {
    "duration": 215,
    "start_time": "2024-07-11T00:22:12.180Z"
   },
   {
    "duration": 8,
    "start_time": "2024-07-11T00:22:12.399Z"
   },
   {
    "duration": 348,
    "start_time": "2024-07-11T00:22:12.410Z"
   },
   {
    "duration": 12,
    "start_time": "2024-07-11T00:22:12.760Z"
   },
   {
    "duration": 329,
    "start_time": "2024-07-11T00:22:12.776Z"
   },
   {
    "duration": 22,
    "start_time": "2024-07-11T00:22:13.107Z"
   },
   {
    "duration": 89,
    "start_time": "2024-07-11T00:22:13.132Z"
   },
   {
    "duration": 18,
    "start_time": "2024-07-11T00:22:13.224Z"
   },
   {
    "duration": 12,
    "start_time": "2024-07-11T00:24:37.421Z"
   },
   {
    "duration": 24,
    "start_time": "2024-07-11T00:26:31.924Z"
   },
   {
    "duration": 7,
    "start_time": "2024-07-11T00:26:59.533Z"
   },
   {
    "duration": 12,
    "start_time": "2024-07-11T00:29:02.280Z"
   },
   {
    "duration": 21,
    "start_time": "2024-07-11T00:30:50.420Z"
   },
   {
    "duration": 4,
    "start_time": "2024-07-11T00:32:03.019Z"
   },
   {
    "duration": 16,
    "start_time": "2024-07-11T00:32:06.696Z"
   },
   {
    "duration": 21,
    "start_time": "2024-07-11T00:32:11.742Z"
   },
   {
    "duration": 21,
    "start_time": "2024-07-11T00:32:13.416Z"
   },
   {
    "duration": 21,
    "start_time": "2024-07-11T00:32:15.825Z"
   },
   {
    "duration": 7,
    "start_time": "2024-07-11T00:32:19.849Z"
   },
   {
    "duration": 11,
    "start_time": "2024-07-11T00:32:22.931Z"
   },
   {
    "duration": 27,
    "start_time": "2024-07-11T00:32:25.855Z"
   },
   {
    "duration": 14,
    "start_time": "2024-07-11T00:32:31.603Z"
   },
   {
    "duration": 22,
    "start_time": "2024-07-11T00:32:52.577Z"
   },
   {
    "duration": 32,
    "start_time": "2024-07-11T00:32:57.469Z"
   },
   {
    "duration": 20,
    "start_time": "2024-07-11T00:33:11.857Z"
   },
   {
    "duration": 472,
    "start_time": "2024-07-11T00:35:32.655Z"
   },
   {
    "duration": 16,
    "start_time": "2024-07-11T00:35:49.492Z"
   },
   {
    "duration": 7,
    "start_time": "2024-07-11T00:37:17.803Z"
   },
   {
    "duration": 10,
    "start_time": "2024-07-11T00:37:23.197Z"
   },
   {
    "duration": 14,
    "start_time": "2024-07-11T00:37:30.871Z"
   },
   {
    "duration": 15,
    "start_time": "2024-07-11T00:37:34.972Z"
   },
   {
    "duration": 489,
    "start_time": "2024-07-11T00:38:11.318Z"
   },
   {
    "duration": 9,
    "start_time": "2024-07-11T00:38:20.903Z"
   },
   {
    "duration": 12,
    "start_time": "2024-07-11T00:42:07.552Z"
   },
   {
    "duration": 29,
    "start_time": "2024-07-11T00:42:24.968Z"
   },
   {
    "duration": 20,
    "start_time": "2024-07-11T00:42:36.175Z"
   },
   {
    "duration": 17,
    "start_time": "2024-07-11T00:42:47.736Z"
   },
   {
    "duration": 501,
    "start_time": "2024-07-11T00:42:52.108Z"
   },
   {
    "duration": 14,
    "start_time": "2024-07-11T00:43:04.649Z"
   },
   {
    "duration": 341,
    "start_time": "2024-07-11T00:43:27.040Z"
   },
   {
    "duration": 333,
    "start_time": "2024-07-11T00:44:05.493Z"
   },
   {
    "duration": 482,
    "start_time": "2024-07-11T00:44:31.436Z"
   },
   {
    "duration": 327,
    "start_time": "2024-07-11T00:44:38.749Z"
   },
   {
    "duration": 405,
    "start_time": "2024-07-11T00:44:59.510Z"
   },
   {
    "duration": 480,
    "start_time": "2024-07-11T00:45:29.555Z"
   },
   {
    "duration": 304,
    "start_time": "2024-07-11T00:46:48.770Z"
   },
   {
    "duration": 5,
    "start_time": "2024-07-11T00:47:10.845Z"
   },
   {
    "duration": 218,
    "start_time": "2024-07-11T00:47:15.442Z"
   },
   {
    "duration": 9,
    "start_time": "2024-07-11T00:47:26.770Z"
   },
   {
    "duration": 311,
    "start_time": "2024-07-11T00:48:01.294Z"
   },
   {
    "duration": 17,
    "start_time": "2024-07-11T00:48:53.781Z"
   },
   {
    "duration": 49,
    "start_time": "2024-07-11T00:49:26.793Z"
   },
   {
    "duration": 52,
    "start_time": "2024-07-11T00:49:37.228Z"
   },
   {
    "duration": 19,
    "start_time": "2024-07-11T00:50:00.752Z"
   },
   {
    "duration": 491,
    "start_time": "2024-07-11T00:52:54.343Z"
   },
   {
    "duration": 506,
    "start_time": "2024-07-11T00:53:04.725Z"
   },
   {
    "duration": 4925,
    "start_time": "2024-07-12T00:12:35.052Z"
   },
   {
    "duration": 30,
    "start_time": "2024-07-12T00:12:39.980Z"
   },
   {
    "duration": 27,
    "start_time": "2024-07-12T00:12:40.013Z"
   },
   {
    "duration": 23,
    "start_time": "2024-07-12T00:12:40.044Z"
   },
   {
    "duration": 49,
    "start_time": "2024-07-12T00:12:40.070Z"
   },
   {
    "duration": 9,
    "start_time": "2024-07-12T00:12:40.122Z"
   },
   {
    "duration": 12,
    "start_time": "2024-07-12T00:12:40.134Z"
   },
   {
    "duration": 11,
    "start_time": "2024-07-12T00:12:40.149Z"
   },
   {
    "duration": 14,
    "start_time": "2024-07-12T00:12:40.210Z"
   },
   {
    "duration": 17,
    "start_time": "2024-07-12T00:12:40.229Z"
   },
   {
    "duration": 15,
    "start_time": "2024-07-12T00:12:40.249Z"
   },
   {
    "duration": 54,
    "start_time": "2024-07-12T00:12:40.268Z"
   },
   {
    "duration": 416,
    "start_time": "2024-07-12T00:12:40.327Z"
   },
   {
    "duration": 14,
    "start_time": "2024-07-12T00:12:40.746Z"
   },
   {
    "duration": 352,
    "start_time": "2024-07-12T00:12:40.763Z"
   },
   {
    "duration": 297,
    "start_time": "2024-07-12T00:12:41.118Z"
   },
   {
    "duration": 418,
    "start_time": "2024-07-12T00:12:41.419Z"
   },
   {
    "duration": 296,
    "start_time": "2024-07-12T00:12:41.840Z"
   },
   {
    "duration": 391,
    "start_time": "2024-07-12T00:12:42.140Z"
   },
   {
    "duration": 534,
    "start_time": "2024-07-12T00:12:42.534Z"
   },
   {
    "duration": 194,
    "start_time": "2024-07-12T00:12:43.071Z"
   },
   {
    "duration": 6,
    "start_time": "2024-07-12T00:12:43.268Z"
   },
   {
    "duration": 211,
    "start_time": "2024-07-12T00:12:43.277Z"
   },
   {
    "duration": 6,
    "start_time": "2024-07-12T00:12:43.491Z"
   },
   {
    "duration": 298,
    "start_time": "2024-07-12T00:12:43.510Z"
   },
   {
    "duration": 14,
    "start_time": "2024-07-12T00:12:43.812Z"
   },
   {
    "duration": 46,
    "start_time": "2024-07-12T00:12:43.829Z"
   },
   {
    "duration": 28,
    "start_time": "2024-07-12T00:12:43.912Z"
   },
   {
    "duration": 11,
    "start_time": "2024-07-12T00:15:28.324Z"
   },
   {
    "duration": 7,
    "start_time": "2024-07-12T00:15:45.775Z"
   },
   {
    "duration": 5,
    "start_time": "2024-07-12T00:15:50.754Z"
   },
   {
    "duration": 403,
    "start_time": "2024-07-12T00:16:57.567Z"
   },
   {
    "duration": 24,
    "start_time": "2024-07-12T00:17:12.186Z"
   },
   {
    "duration": 18,
    "start_time": "2024-07-12T00:17:15.499Z"
   },
   {
    "duration": 6,
    "start_time": "2024-07-12T00:17:42.254Z"
   },
   {
    "duration": 7,
    "start_time": "2024-07-12T00:17:44.009Z"
   },
   {
    "duration": 18,
    "start_time": "2024-07-12T00:18:42.197Z"
   },
   {
    "duration": 6,
    "start_time": "2024-07-12T00:18:45.905Z"
   },
   {
    "duration": 9,
    "start_time": "2024-07-12T00:18:54.255Z"
   },
   {
    "duration": 15,
    "start_time": "2024-07-12T00:19:06.038Z"
   },
   {
    "duration": 12,
    "start_time": "2024-07-12T00:19:20.510Z"
   },
   {
    "duration": 10,
    "start_time": "2024-07-12T00:19:24.634Z"
   },
   {
    "duration": 8,
    "start_time": "2024-07-12T00:23:40.313Z"
   },
   {
    "duration": 5,
    "start_time": "2024-07-12T00:23:45.374Z"
   },
   {
    "duration": 22,
    "start_time": "2024-07-12T00:23:45.384Z"
   },
   {
    "duration": 20,
    "start_time": "2024-07-12T00:23:45.413Z"
   },
   {
    "duration": 24,
    "start_time": "2024-07-12T00:23:45.436Z"
   },
   {
    "duration": 61,
    "start_time": "2024-07-12T00:23:45.465Z"
   },
   {
    "duration": 9,
    "start_time": "2024-07-12T00:23:45.529Z"
   },
   {
    "duration": 10,
    "start_time": "2024-07-12T00:23:45.542Z"
   },
   {
    "duration": 7,
    "start_time": "2024-07-12T00:23:45.556Z"
   },
   {
    "duration": 54,
    "start_time": "2024-07-12T00:23:45.566Z"
   },
   {
    "duration": 15,
    "start_time": "2024-07-12T00:23:45.623Z"
   },
   {
    "duration": 13,
    "start_time": "2024-07-12T00:23:45.641Z"
   },
   {
    "duration": 61,
    "start_time": "2024-07-12T00:23:45.658Z"
   },
   {
    "duration": 426,
    "start_time": "2024-07-12T00:23:45.722Z"
   },
   {
    "duration": 14,
    "start_time": "2024-07-12T00:23:46.155Z"
   },
   {
    "duration": 306,
    "start_time": "2024-07-12T00:23:46.172Z"
   },
   {
    "duration": 294,
    "start_time": "2024-07-12T00:23:46.481Z"
   },
   {
    "duration": 440,
    "start_time": "2024-07-12T00:23:46.778Z"
   },
   {
    "duration": 369,
    "start_time": "2024-07-12T00:23:47.221Z"
   },
   {
    "duration": 487,
    "start_time": "2024-07-12T00:23:47.593Z"
   },
   {
    "duration": 418,
    "start_time": "2024-07-12T00:23:48.084Z"
   },
   {
    "duration": 10,
    "start_time": "2024-07-12T00:23:48.508Z"
   },
   {
    "duration": 231,
    "start_time": "2024-07-12T00:23:48.521Z"
   },
   {
    "duration": 7,
    "start_time": "2024-07-12T00:23:48.755Z"
   },
   {
    "duration": 248,
    "start_time": "2024-07-12T00:23:48.764Z"
   },
   {
    "duration": 6,
    "start_time": "2024-07-12T00:23:49.015Z"
   },
   {
    "duration": 297,
    "start_time": "2024-07-12T00:23:49.025Z"
   },
   {
    "duration": 17,
    "start_time": "2024-07-12T00:23:49.326Z"
   },
   {
    "duration": 80,
    "start_time": "2024-07-12T00:23:49.346Z"
   },
   {
    "duration": 20,
    "start_time": "2024-07-12T00:23:49.429Z"
   },
   {
    "duration": 4,
    "start_time": "2024-07-12T00:31:05.776Z"
   },
   {
    "duration": 16,
    "start_time": "2024-07-12T00:31:05.785Z"
   },
   {
    "duration": 22,
    "start_time": "2024-07-12T00:31:05.803Z"
   },
   {
    "duration": 22,
    "start_time": "2024-07-12T00:31:05.829Z"
   },
   {
    "duration": 57,
    "start_time": "2024-07-12T00:31:05.854Z"
   },
   {
    "duration": 8,
    "start_time": "2024-07-12T00:31:05.915Z"
   },
   {
    "duration": 11,
    "start_time": "2024-07-12T00:31:05.928Z"
   },
   {
    "duration": 10,
    "start_time": "2024-07-12T00:31:05.944Z"
   },
   {
    "duration": 57,
    "start_time": "2024-07-12T00:31:05.959Z"
   },
   {
    "duration": 15,
    "start_time": "2024-07-12T00:31:06.019Z"
   },
   {
    "duration": 14,
    "start_time": "2024-07-12T00:31:06.037Z"
   },
   {
    "duration": 55,
    "start_time": "2024-07-12T00:31:06.053Z"
   },
   {
    "duration": 398,
    "start_time": "2024-07-12T00:31:06.111Z"
   },
   {
    "duration": 16,
    "start_time": "2024-07-12T00:31:06.512Z"
   },
   {
    "duration": 350,
    "start_time": "2024-07-12T00:31:06.531Z"
   },
   {
    "duration": 292,
    "start_time": "2024-07-12T00:31:06.884Z"
   },
   {
    "duration": 448,
    "start_time": "2024-07-12T00:31:07.180Z"
   },
   {
    "duration": 304,
    "start_time": "2024-07-12T00:31:07.631Z"
   },
   {
    "duration": 387,
    "start_time": "2024-07-12T00:31:07.938Z"
   },
   {
    "duration": 457,
    "start_time": "2024-07-12T00:31:08.332Z"
   },
   {
    "duration": 21,
    "start_time": "2024-07-12T00:31:08.793Z"
   },
   {
    "duration": 202,
    "start_time": "2024-07-12T00:31:08.820Z"
   },
   {
    "duration": 6,
    "start_time": "2024-07-12T00:31:09.025Z"
   },
   {
    "duration": 231,
    "start_time": "2024-07-12T00:31:09.034Z"
   },
   {
    "duration": 6,
    "start_time": "2024-07-12T00:31:09.268Z"
   },
   {
    "duration": 292,
    "start_time": "2024-07-12T00:31:09.277Z"
   },
   {
    "duration": 15,
    "start_time": "2024-07-12T00:31:09.571Z"
   },
   {
    "duration": 47,
    "start_time": "2024-07-12T00:31:09.610Z"
   },
   {
    "duration": 19,
    "start_time": "2024-07-12T00:31:09.662Z"
   },
   {
    "duration": 352,
    "start_time": "2024-07-12T01:31:52.992Z"
   },
   {
    "duration": 5277,
    "start_time": "2024-07-12T01:32:13.729Z"
   },
   {
    "duration": 30,
    "start_time": "2024-07-12T01:32:19.009Z"
   },
   {
    "duration": 25,
    "start_time": "2024-07-12T01:32:19.042Z"
   },
   {
    "duration": 24,
    "start_time": "2024-07-12T01:32:19.071Z"
   },
   {
    "duration": 49,
    "start_time": "2024-07-12T01:32:19.098Z"
   },
   {
    "duration": 9,
    "start_time": "2024-07-12T01:32:19.150Z"
   },
   {
    "duration": 11,
    "start_time": "2024-07-12T01:32:19.162Z"
   },
   {
    "duration": 12,
    "start_time": "2024-07-12T01:32:19.177Z"
   },
   {
    "duration": 15,
    "start_time": "2024-07-12T01:32:19.232Z"
   },
   {
    "duration": 13,
    "start_time": "2024-07-12T01:32:19.253Z"
   },
   {
    "duration": 13,
    "start_time": "2024-07-12T01:32:19.270Z"
   },
   {
    "duration": 57,
    "start_time": "2024-07-12T01:32:19.287Z"
   },
   {
    "duration": 417,
    "start_time": "2024-07-12T01:32:19.347Z"
   },
   {
    "duration": 15,
    "start_time": "2024-07-12T01:32:19.766Z"
   },
   {
    "duration": 345,
    "start_time": "2024-07-12T01:32:19.785Z"
   },
   {
    "duration": 297,
    "start_time": "2024-07-12T01:32:20.133Z"
   },
   {
    "duration": 416,
    "start_time": "2024-07-12T01:32:20.434Z"
   },
   {
    "duration": 374,
    "start_time": "2024-07-12T01:32:20.853Z"
   },
   {
    "duration": 404,
    "start_time": "2024-07-12T01:32:21.231Z"
   },
   {
    "duration": 535,
    "start_time": "2024-07-12T01:32:21.638Z"
   },
   {
    "duration": 11,
    "start_time": "2024-07-12T01:32:22.177Z"
   },
   {
    "duration": 220,
    "start_time": "2024-07-12T01:32:22.192Z"
   },
   {
    "duration": 15,
    "start_time": "2024-07-12T01:32:22.416Z"
   },
   {
    "duration": 232,
    "start_time": "2024-07-12T01:32:22.435Z"
   },
   {
    "duration": 6,
    "start_time": "2024-07-12T01:32:22.670Z"
   },
   {
    "duration": 304,
    "start_time": "2024-07-12T01:32:22.679Z"
   },
   {
    "duration": 14,
    "start_time": "2024-07-12T01:32:22.986Z"
   },
   {
    "duration": 67,
    "start_time": "2024-07-12T01:32:23.006Z"
   },
   {
    "duration": 18,
    "start_time": "2024-07-12T01:32:23.076Z"
   },
   {
    "duration": 10,
    "start_time": "2024-07-12T01:43:01.563Z"
   },
   {
    "duration": 173,
    "start_time": "2024-07-12T01:43:52.153Z"
   },
   {
    "duration": 6,
    "start_time": "2024-07-12T01:46:31.877Z"
   },
   {
    "duration": 201,
    "start_time": "2024-07-12T01:48:22.873Z"
   },
   {
    "duration": 6,
    "start_time": "2024-07-12T01:48:39.741Z"
   },
   {
    "duration": 263,
    "start_time": "2024-07-12T01:48:50.444Z"
   },
   {
    "duration": 14,
    "start_time": "2024-07-12T01:48:53.829Z"
   },
   {
    "duration": 45,
    "start_time": "2024-07-12T01:48:56.330Z"
   },
   {
    "duration": 48,
    "start_time": "2024-07-12T01:53:59.446Z"
   },
   {
    "duration": 46,
    "start_time": "2024-07-12T01:54:11.683Z"
   },
   {
    "duration": 56,
    "start_time": "2024-07-12T01:54:40.108Z"
   },
   {
    "duration": 20,
    "start_time": "2024-07-12T01:55:02.365Z"
   },
   {
    "duration": 5,
    "start_time": "2024-07-12T01:55:28.785Z"
   },
   {
    "duration": 23,
    "start_time": "2024-07-12T01:55:28.795Z"
   },
   {
    "duration": 22,
    "start_time": "2024-07-12T01:55:28.821Z"
   },
   {
    "duration": 23,
    "start_time": "2024-07-12T01:55:28.847Z"
   },
   {
    "duration": 56,
    "start_time": "2024-07-12T01:55:28.874Z"
   },
   {
    "duration": 8,
    "start_time": "2024-07-12T01:55:28.933Z"
   },
   {
    "duration": 11,
    "start_time": "2024-07-12T01:55:28.944Z"
   },
   {
    "duration": 13,
    "start_time": "2024-07-12T01:55:28.957Z"
   },
   {
    "duration": 57,
    "start_time": "2024-07-12T01:55:28.973Z"
   },
   {
    "duration": 15,
    "start_time": "2024-07-12T01:55:29.033Z"
   },
   {
    "duration": 13,
    "start_time": "2024-07-12T01:55:29.051Z"
   },
   {
    "duration": 17,
    "start_time": "2024-07-12T01:55:29.068Z"
   },
   {
    "duration": 438,
    "start_time": "2024-07-12T01:55:29.088Z"
   },
   {
    "duration": 14,
    "start_time": "2024-07-12T01:55:29.534Z"
   },
   {
    "duration": 312,
    "start_time": "2024-07-12T01:55:29.551Z"
   },
   {
    "duration": 299,
    "start_time": "2024-07-12T01:55:29.866Z"
   },
   {
    "duration": 381,
    "start_time": "2024-07-12T01:55:30.170Z"
   },
   {
    "duration": 332,
    "start_time": "2024-07-12T01:55:30.555Z"
   },
   {
    "duration": 440,
    "start_time": "2024-07-12T01:55:30.890Z"
   },
   {
    "duration": 435,
    "start_time": "2024-07-12T01:55:31.334Z"
   },
   {
    "duration": 12,
    "start_time": "2024-07-12T01:55:31.773Z"
   },
   {
    "duration": 194,
    "start_time": "2024-07-12T01:55:31.788Z"
   },
   {
    "duration": 6,
    "start_time": "2024-07-12T01:55:31.985Z"
   },
   {
    "duration": 351,
    "start_time": "2024-07-12T01:55:31.994Z"
   },
   {
    "duration": 6,
    "start_time": "2024-07-12T01:55:32.348Z"
   },
   {
    "duration": 304,
    "start_time": "2024-07-12T01:55:32.357Z"
   },
   {
    "duration": 15,
    "start_time": "2024-07-12T01:55:32.665Z"
   },
   {
    "duration": 66,
    "start_time": "2024-07-12T01:55:32.683Z"
   },
   {
    "duration": 19,
    "start_time": "2024-07-12T01:55:32.753Z"
   }
  ],
  "kernelspec": {
   "display_name": "Python 3 (ipykernel)",
   "language": "python",
   "name": "python3"
  },
  "language_info": {
   "codemirror_mode": {
    "name": "ipython",
    "version": 3
   },
   "file_extension": ".py",
   "mimetype": "text/x-python",
   "name": "python",
   "nbconvert_exporter": "python",
   "pygments_lexer": "ipython3",
   "version": "3.9.19"
  },
  "toc": {
   "base_numbering": 1,
   "nav_menu": {},
   "number_sections": true,
   "sideBar": true,
   "skip_h1_title": true,
   "title_cell": "Table of Contents",
   "title_sidebar": "Contents",
   "toc_cell": false,
   "toc_position": {},
   "toc_section_display": true,
   "toc_window_display": false
  }
 },
 "nbformat": 4,
 "nbformat_minor": 2
}
